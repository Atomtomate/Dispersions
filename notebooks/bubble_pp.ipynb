{
 "cells": [
  {
   "cell_type": "code",
   "execution_count": 1,
   "id": "cba66c71-747d-4232-9d7c-b2786b5e372c",
   "metadata": {},
   "outputs": [
    {
     "name": "stderr",
     "output_type": "stream",
     "text": [
      "\u001b[32m\u001b[1m  Activating\u001b[22m\u001b[39m project at `~/Codes/Dispersions.jl`\n",
      "\u001b[36m\u001b[1m[ \u001b[22m\u001b[39m\u001b[36m\u001b[1mInfo: \u001b[22m\u001b[39mPrecompiling Dispersions [9451dd48-6b2a-4bde-a443-9ec270a37806]\n"
     ]
    },
    {
     "data": {
      "text/plain": [
       "fcc_dispersion (generic function with 1 method)"
      ]
     },
     "execution_count": 1,
     "metadata": {},
     "output_type": "execute_result"
    }
   ],
   "source": [
    "using Pkg\n",
    "Pkg.activate(\"..\")\n",
    "using Dispersions\n",
    "using Test\n",
    "using FFTW\n",
    "include(\"../test/helper_functions.jl\")"
   ]
  },
  {
   "cell_type": "code",
   "execution_count": 24,
   "id": "c883e50c-e72c-4c9c-bc63-2d455eb01aaa",
   "metadata": {},
   "outputs": [
    {
     "ename": "LoadError",
     "evalue": "UndefVarError: `gen_sampling` not defined",
     "output_type": "error",
     "traceback": [
      "UndefVarError: `gen_sampling` not defined",
      "",
      "Stacktrace:",
      " [1] top-level scope",
      "   @ In[24]:3"
     ]
    }
   ],
   "source": [
    "Ns = 4\n",
    "\n",
    "v_full = collect(gen_sampling(Dispersions.cP, 2, Ns))\n",
    "q0 = Tuple(findfirst(x-> all(x .≈ 0), v_full))"
   ]
  },
  {
   "cell_type": "code",
   "execution_count": 12,
   "id": "edacaa41-b39d-43eb-bf68-860790c37107",
   "metadata": {},
   "outputs": [],
   "source": [
    "Ns = 4\n",
    "\n",
    "\n",
    "gr = \"fcc-1.7\"\n",
    "kG = gen_kGrid(gr, Ns)\n",
    "\n",
    "v_full = collect(Dispersions.gen_sampling(grid_type(kG), 2, Ns))\n",
    "q0 = Tuple(findfirst(x-> all(x .≈ 0), v_full))\n",
    "\n",
    "arr1 = randn(ComplexF64, gridshape(kG))\n",
    "arr2 = randn(ComplexF64, gridshape(kG))\n",
    "arr1_sym = expandKArr(kG, reduceKArr(kG, arr1))\n",
    "arr2_sym = expandKArr(kG, reduceKArr(kG, arr2))\n",
    "arr1_c = deepcopy(arr1_sym)\n",
    "arr2_c = deepcopy(arr2_sym);"
   ]
  },
  {
   "cell_type": "code",
   "execution_count": 13,
   "id": "12a0700c-3c97-417c-a8c0-9cb78a8fe2cc",
   "metadata": {},
   "outputs": [],
   "source": [
    "res_pp, dbg_i_pp, dbg_val_pp = naive_conv(v_full, v_full, pp=true, q0, round_entries=false);\n",
    "res_ph, dbg_i, dbg_val = naive_conv(v_full, v_full, pp=false, q0, round_entries=false);"
   ]
  },
  {
   "cell_type": "code",
   "execution_count": 14,
   "id": "3accd50a-b3ae-47ed-b717-edfd1437f16c",
   "metadata": {},
   "outputs": [
    {
     "name": "stdout",
     "output_type": "stream",
     "text": [
      "\u001b[91m\u001b[1mTest Failed\u001b[22m\u001b[39m at \u001b[39m\u001b[1mIn[14]:10\u001b[22m\n",
      "  Expression: all(map((x->begin\n",
      "                all(x[1] .≈ x[2])\n",
      "            end), zip(q_list_single, v_full)))\n",
      "\n"
     ]
    },
    {
     "ename": "LoadError",
     "evalue": "\u001b[91mThere was an error during testing\u001b[39m",
     "output_type": "error",
     "traceback": [
      "\u001b[91mThere was an error during testing\u001b[39m",
      "",
      "Stacktrace:",
      " [1] record(ts::Test.FallbackTestSet, t::Union{Test.Error, Test.Fail})",
      "   @ Test ~/julia/share/julia/stdlib/v1.9/Test/src/Test.jl:960",
      " [2] do_test(result::Test.ExecutionResult, orig_expr::Any)",
      "   @ Test ~/julia/share/julia/stdlib/v1.9/Test/src/Test.jl:670",
      " [3] top-level scope",
      "   @ ~/julia/share/julia/stdlib/v1.9/Test/src/Test.jl:478"
     ]
    }
   ],
   "source": [
    "q_list = map(el->check_q(el, Ns), dbg_val);\n",
    "# preprocess rounds all entries in order for unqiue to work\n",
    "q_list_pre = map(x -> map(xi -> round.(xi,digits=8), x), q_list)\n",
    "q_list_pre = map(x -> map(xi -> map(xii -> xii ≈ 0 ? abs(xii) : xii, xi), x), q_list_pre)\n",
    "# Test if all entries have the same common q difference\n",
    "@test all(map(qi_list -> length(unique(qi_list)) == 1, q_list_pre))\n",
    "# Extract only q vector (since we checked that only one unique exists\n",
    "q_list_single = map(x->x[1], q_list_pre)\n",
    "# Test if all q-vectors are at the correct index\n",
    "@test all(map(x-> all(x[1] .≈ x[2]), zip(q_list_single, v_full)))\n",
    "# Test if all possible q-vectors are contained in convolution\n",
    "@test all(map(el -> all(el[1] .≈ el[2]), zip(sort(unique(v_full)[:]), sort(map(qi->qi[1], q_list_pre)[:]))))\n",
    "# Test if all combinations of k_i and k_{i+j} are contained in each result index\n",
    "@test all(map(entry -> length(unique(map(x->x[1], entry))), dbg_val) .== Ns*Ns)\n",
    "@test all(map(entry -> length(unique(map(x->x[2], entry))), dbg_val) .== Ns*Ns)"
   ]
  },
  {
   "cell_type": "code",
   "execution_count": 15,
   "id": "645ffc61-eb8c-4571-8215-cc39f6737fbf",
   "metadata": {},
   "outputs": [
    {
     "name": "stdout",
     "output_type": "stream",
     "text": [
      "\u001b[91m\u001b[1mTest Failed\u001b[22m\u001b[39m at \u001b[39m\u001b[1mIn[15]:10\u001b[22m\n",
      "  Expression: all(map((x->begin\n",
      "                all(x[1] .≈ x[2])\n",
      "            end), zip(q_list_pp_single, v_full)))\n",
      "\n"
     ]
    },
    {
     "ename": "LoadError",
     "evalue": "\u001b[91mThere was an error during testing\u001b[39m",
     "output_type": "error",
     "traceback": [
      "\u001b[91mThere was an error during testing\u001b[39m",
      "",
      "Stacktrace:",
      " [1] record(ts::Test.FallbackTestSet, t::Union{Test.Error, Test.Fail})",
      "   @ Test ~/julia/share/julia/stdlib/v1.9/Test/src/Test.jl:960",
      " [2] do_test(result::Test.ExecutionResult, orig_expr::Any)",
      "   @ Test ~/julia/share/julia/stdlib/v1.9/Test/src/Test.jl:670",
      " [3] top-level scope",
      "   @ ~/julia/share/julia/stdlib/v1.9/Test/src/Test.jl:478"
     ]
    }
   ],
   "source": [
    "q_list_pp = map(el->check_q(el, Ns, pp=true), dbg_val_pp);\n",
    "# preprocess rounds all entries in order for unqiue to work\n",
    "q_list_pp_pre = map(x -> map(xi -> round.(xi,digits=8), x), q_list_pp)\n",
    "q_list_pp_pre = map(x -> map(xi -> map(xii -> xii ≈ 0 ? abs(xii) : xii, xi), x), q_list_pp_pre)\n",
    "# Test if all entries have the same common q difference\n",
    "@test all(map(qi_list -> length(unique(qi_list)) == 1, q_list_pp_pre))\n",
    "# extract only q vector (since we checked that only one unique exists\n",
    "q_list_pp_single = map(x->x[1], q_list_pp_pre)\n",
    "# test if all q-vectors are at the correct index\n",
    "@test all(map(x-> all(x[1] .≈ x[2]), zip(q_list_pp_single, v_full)))\n",
    "# Test if all possible q-vectors are contained in convolution\n",
    "@test all(map(el -> all(el[1] .≈ el[2]), zip(sort(unique(v_full)[:]), sort(map(qi->qi[1], q_list_pp_pre)[:]))))\n",
    "# Test if all combinations of k_i and k_{i+j} are contained in each result index\n",
    "@test all(map(entry -> length(unique(map(x->x[1], entry))), dbg_val_pp) .== Ns*Ns)\n",
    "@test all(map(entry -> length(unique(map(x->x[2], entry))), dbg_val_pp) .== Ns*Ns)"
   ]
  },
  {
   "cell_type": "code",
   "execution_count": 16,
   "id": "b0ed33cc-b13f-41fc-8a00-fecc17bdfd29",
   "metadata": {
    "scrolled": true
   },
   "outputs": [
    {
     "name": "stdout",
     "output_type": "stream",
     "text": [
      "ttttttrue\n",
      "4×4×4 Array{ComplexF64, 3}:\n",
      "[:, :, 1] =\n",
      " -0.00450261-0.431121im   0.0916384+0.0233439im    0.158434+0.0971723im   0.0916384+0.0233439im\n",
      "   0.0916384+0.0233439im   0.106108-0.00438575im   0.112438-0.0305365im   0.0615202-0.180099im\n",
      "    0.158434+0.0971723im   0.112438-0.0305365im   0.0371631-0.00624255im   0.112438-0.0305365im\n",
      "   0.0916384+0.0233439im  0.0615202-0.180099im     0.112438-0.0305365im    0.106108-0.00438575im\n",
      "\n",
      "[:, :, 2] =\n",
      " 0.0916384+0.0233439im    0.106108-0.00438575im   0.112438-0.0305365im  0.0615202-0.180099im\n",
      "  0.106108-0.00438575im    -0.2267-0.298624im    0.0996108+0.011892im    0.124766+0.0687761im\n",
      "  0.112438-0.0305365im   0.0996108+0.011892im     0.105819+0.0508186im  0.0204225-0.0951959im\n",
      " 0.0615202-0.180099im     0.124766+0.0687761im   0.0204225-0.0951959im   0.124766+0.0687761im\n",
      "\n",
      "[:, :, 3] =\n",
      "  0.158434+0.0971723im    0.112438-0.0305365im  0.0371631-0.00624255im   0.112438-0.0305365im\n",
      "  0.112438-0.0305365im   0.0996108+0.011892im    0.105819+0.0508186im   0.0204225-0.0951959im\n",
      " 0.0371631-0.00624255im   0.105819+0.0508186im  -0.109669-0.162586im     0.105819+0.0508186im\n",
      "  0.112438-0.0305365im   0.0204225-0.0951959im   0.105819+0.0508186im   0.0996108+0.011892im\n",
      "\n",
      "[:, :, 4] =\n",
      " 0.0916384+0.0233439im   0.0615202-0.180099im    0.112438-0.0305365im   0.106108-0.00438575im\n",
      " 0.0615202-0.180099im     0.124766+0.0687761im  0.0204225-0.0951959im   0.124766+0.0687761im\n",
      "  0.112438-0.0305365im   0.0204225-0.0951959im   0.105819+0.0508186im  0.0996108+0.011892im\n",
      "  0.106108-0.00438575im   0.124766+0.0687761im  0.0996108+0.011892im     -0.2267-0.298624im\n",
      "===============================\n",
      "4×4×4 Array{ComplexF64, 3}:\n",
      "[:, :, 1] =\n",
      "   -0.2267-0.298624im    0.0996108+0.011892im    0.124766+0.0687761im   0.106108-0.00438575im\n",
      " 0.0996108+0.011892im     0.105819+0.0508186im  0.0204225-0.0951959im   0.112438-0.0305365im\n",
      "  0.124766+0.0687761im   0.0204225-0.0951959im   0.124766+0.0687761im  0.0615202-0.180099im\n",
      "  0.106108-0.00438575im   0.112438-0.0305365im  0.0615202-0.180099im   0.0916384+0.0233439im\n",
      "\n",
      "[:, :, 2] =\n",
      " 0.0996108+0.011892im    0.105819+0.0508186im   0.0204225-0.0951959im   0.112438-0.0305365im\n",
      "  0.105819+0.0508186im  -0.109669-0.162586im     0.105819+0.0508186im  0.0371631-0.00624255im\n",
      " 0.0204225-0.0951959im   0.105819+0.0508186im   0.0996108+0.011892im    0.112438-0.0305365im\n",
      "  0.112438-0.0305365im  0.0371631-0.00624255im   0.112438-0.0305365im   0.158434+0.0971723im\n",
      "\n",
      "[:, :, 3] =\n",
      "  0.124766+0.0687761im  0.0204225-0.0951959im   0.124766+0.0687761im   0.0615202-0.180099im\n",
      " 0.0204225-0.0951959im   0.105819+0.0508186im  0.0996108+0.011892im     0.112438-0.0305365im\n",
      "  0.124766+0.0687761im  0.0996108+0.011892im     -0.2267-0.298624im     0.106108-0.00438575im\n",
      " 0.0615202-0.180099im    0.112438-0.0305365im   0.106108-0.00438575im  0.0916384+0.0233439im\n",
      "\n",
      "[:, :, 4] =\n",
      "  0.106108-0.00438575im   0.112438-0.0305365im   0.0615202-0.180099im      0.0916384+0.0233439im\n",
      "  0.112438-0.0305365im   0.0371631-0.00624255im   0.112438-0.0305365im      0.158434+0.0971723im\n",
      " 0.0615202-0.180099im     0.112438-0.0305365im    0.106108-0.00438575im    0.0916384+0.0233439im\n",
      " 0.0916384+0.0233439im    0.158434+0.0971723im   0.0916384+0.0233439im   -0.00450261-0.431121im\n",
      "===============================\n",
      "4×4×4 Array{ComplexF64, 3}:\n",
      "[:, :, 1] =\n",
      " -0.00450261-0.431121im   0.0916384+0.0233439im    0.158434+0.0971723im   0.0916384+0.0233439im\n",
      "   0.0916384+0.0233439im   0.106108-0.00438575im   0.112438-0.0305365im   0.0615202-0.180099im\n",
      "    0.158434+0.0971723im   0.112438-0.0305365im   0.0371631-0.00624255im   0.112438-0.0305365im\n",
      "   0.0916384+0.0233439im  0.0615202-0.180099im     0.112438-0.0305365im    0.106108-0.00438575im\n",
      "\n",
      "[:, :, 2] =\n",
      " 0.0916384+0.0233439im    0.106108-0.00438575im   0.112438-0.0305365im  0.0615202-0.180099im\n",
      "  0.106108-0.00438575im    -0.2267-0.298624im    0.0996108+0.011892im    0.124766+0.0687761im\n",
      "  0.112438-0.0305365im   0.0996108+0.011892im     0.105819+0.0508186im  0.0204225-0.0951959im\n",
      " 0.0615202-0.180099im     0.124766+0.0687761im   0.0204225-0.0951959im   0.124766+0.0687761im\n",
      "\n",
      "[:, :, 3] =\n",
      "  0.158434+0.0971723im    0.112438-0.0305365im  0.0371631-0.00624255im   0.112438-0.0305365im\n",
      "  0.112438-0.0305365im   0.0996108+0.011892im    0.105819+0.0508186im   0.0204225-0.0951959im\n",
      " 0.0371631-0.00624255im   0.105819+0.0508186im  -0.109669-0.162586im     0.105819+0.0508186im\n",
      "  0.112438-0.0305365im   0.0204225-0.0951959im   0.105819+0.0508186im   0.0996108+0.011892im\n",
      "\n",
      "[:, :, 4] =\n",
      " 0.0916384+0.0233439im   0.0615202-0.180099im    0.112438-0.0305365im   0.106108-0.00438575im\n",
      " 0.0615202-0.180099im     0.124766+0.0687761im  0.0204225-0.0951959im   0.124766+0.0687761im\n",
      "  0.112438-0.0305365im   0.0204225-0.0951959im   0.105819+0.0508186im  0.0996108+0.011892im\n",
      "  0.106108-0.00438575im   0.124766+0.0687761im  0.0996108+0.011892im     -0.2267-0.298624im\n",
      "===============================\n",
      "4×4×4 Array{ComplexF64, 3}:\n",
      "[:, :, 1] =\n",
      " -0.00450261-0.431121im   0.0916384+0.0233439im    0.158434+0.0971723im   0.0916384+0.0233439im\n",
      "   0.0916384+0.0233439im   0.106108-0.00438575im   0.112438-0.0305365im   0.0615202-0.180099im\n",
      "    0.158434+0.0971723im   0.112438-0.0305365im   0.0371631-0.00624255im   0.112438-0.0305365im\n",
      "   0.0916384+0.0233439im  0.0615202-0.180099im     0.112438-0.0305365im    0.106108-0.00438575im\n",
      "\n",
      "[:, :, 2] =\n",
      " 0.0916384+0.0233439im    0.106108-0.00438575im   0.112438-0.0305365im  0.0615202-0.180099im\n",
      "  0.106108-0.00438575im    -0.2267-0.298624im    0.0996108+0.011892im    0.124766+0.0687761im\n",
      "  0.112438-0.0305365im   0.0996108+0.011892im     0.105819+0.0508186im  0.0204225-0.0951959im\n",
      " 0.0615202-0.180099im     0.124766+0.0687761im   0.0204225-0.0951959im   0.124766+0.0687761im\n",
      "\n",
      "[:, :, 3] =\n",
      "  0.158434+0.0971723im    0.112438-0.0305365im  0.0371631-0.00624255im   0.112438-0.0305365im\n",
      "  0.112438-0.0305365im   0.0996108+0.011892im    0.105819+0.0508186im   0.0204225-0.0951959im\n",
      " 0.0371631-0.00624255im   0.105819+0.0508186im  -0.109669-0.162586im     0.105819+0.0508186im\n",
      "  0.112438-0.0305365im   0.0204225-0.0951959im   0.105819+0.0508186im   0.0996108+0.011892im\n",
      "\n",
      "[:, :, 4] =\n",
      " 0.0916384+0.0233439im   0.0615202-0.180099im    0.112438-0.0305365im   0.106108-0.00438575im\n",
      " 0.0615202-0.180099im     0.124766+0.0687761im  0.0204225-0.0951959im   0.124766+0.0687761im\n",
      "  0.112438-0.0305365im   0.0204225-0.0951959im   0.105819+0.0508186im  0.0996108+0.011892im\n",
      "  0.106108-0.00438575im   0.124766+0.0687761im  0.0996108+0.011892im     -0.2267-0.298624im"
     ]
    },
    {
     "data": {
      "text/plain": [
       "\u001b[32m\u001b[1mTest Passed\u001b[22m\u001b[39m"
      ]
     },
     "execution_count": 16,
     "metadata": {},
     "output_type": "execute_result"
    }
   ],
   "source": [
    "conv_ph_naive,_,_ = naive_conv(arr1_sym, arr2_sym, q0, pp=false);\n",
    "conv_test = Dispersions.conv(kG, reduceKArr(kG,arr1_sym), reduceKArr(kG,arr2_sym), crosscorrelation=true)\n",
    "conv_ph_fft_test = circshift(reverse(ifft(fft(arr1_sym) .* fft(reverse(arr2_sym)))), q0 .- 1)\n",
    "\n",
    "show(stdout, \"text/plain\", expandKArr(kG, conv_test))\n",
    "println(\"\\n===============================\")\n",
    "show(stdout, \"text/plain\", kG.cache1 ./ kG.Nk)\n",
    "println(\"\\n===============================\")\n",
    "show(stdout, \"text/plain\", conv_ph_naive ./ kG.Nk)\n",
    "println(\"\\n===============================\")\n",
    "show(stdout, \"text/plain\", conv_ph_fft_test ./ kG.Nk)\n",
    "\n",
    "@test all(conv_ph_fft_test .≈ conv_ph_naive)\n",
    "@test all(conv_ph_fft_test .≈ expandKArr(kG, conv_test) .* kG.Nk)"
   ]
  },
  {
   "cell_type": "code",
   "execution_count": 23,
   "id": "26499511-f7e5-43a9-890d-6c099734b454",
   "metadata": {},
   "outputs": [
    {
     "name": "stdout",
     "output_type": "stream",
     "text": [
      "tttttfalse\n",
      "4×4×4 Array{ComplexF64, 3}:\n",
      "[:, :, 1] =\n",
      " -0.109669-0.162586im     0.105819+0.0508186im  0.0371631-0.00624255im   0.105819+0.0508186im\n",
      "  0.105819+0.0508186im   0.0996108+0.011892im    0.112438-0.0305365im   0.0204225-0.0951959im\n",
      " 0.0371631-0.00624255im   0.112438-0.0305365im   0.158434+0.0971723im    0.112438-0.0305365im\n",
      "  0.105819+0.0508186im   0.0204225-0.0951959im   0.112438-0.0305365im   0.0996108+0.011892im\n",
      "\n",
      "[:, :, 2] =\n",
      "  0.105819+0.0508186im  0.0996108+0.011892im     0.112438-0.0305365im   0.0204225-0.0951959im\n",
      " 0.0996108+0.011892im     -0.2267-0.298624im     0.106108-0.00438575im   0.124766+0.0687761im\n",
      "  0.112438-0.0305365im   0.106108-0.00438575im  0.0916384+0.0233439im   0.0615202-0.180099im\n",
      " 0.0204225-0.0951959im   0.124766+0.0687761im   0.0615202-0.180099im     0.124766+0.0687761im\n",
      "\n",
      "[:, :, 3] =\n",
      " 0.0371631-0.00624255im   0.112438-0.0305365im      0.158434+0.0971723im   0.112438-0.0305365im\n",
      "  0.112438-0.0305365im    0.106108-0.00438575im    0.0916384+0.0233439im  0.0615202-0.180099im\n",
      "  0.158434+0.0971723im   0.0916384+0.0233439im   -0.00450261-0.431121im   0.0916384+0.0233439im\n",
      "  0.112438-0.0305365im   0.0615202-0.180099im      0.0916384+0.0233439im   0.106108-0.00438575im\n",
      "\n",
      "[:, :, 4] =\n",
      "  0.105819+0.0508186im  0.0204225-0.0951959im   0.112438-0.0305365im   0.0996108+0.011892im\n",
      " 0.0204225-0.0951959im   0.124766+0.0687761im  0.0615202-0.180099im     0.124766+0.0687761im\n",
      "  0.112438-0.0305365im  0.0615202-0.180099im   0.0916384+0.0233439im    0.106108-0.00438575im\n",
      " 0.0996108+0.011892im    0.124766+0.0687761im   0.106108-0.00438575im    -0.2267-0.298624im\n",
      "===============================\n",
      "4×4×4 Array{ComplexF64, 3}:\n",
      "[:, :, 1] =\n",
      " -0.109669-0.162586im     0.105819+0.0508186im  0.0371631-0.00624255im   0.105819+0.0508186im\n",
      "  0.105819+0.0508186im   0.0996108+0.011892im    0.112438-0.0305365im   0.0204225-0.0951959im\n",
      " 0.0371631-0.00624255im   0.112438-0.0305365im   0.158434+0.0971723im    0.112438-0.0305365im\n",
      "  0.105819+0.0508186im   0.0204225-0.0951959im   0.112438-0.0305365im   0.0996108+0.011892im\n",
      "\n",
      "[:, :, 2] =\n",
      "  0.105819+0.0508186im  0.0996108+0.011892im     0.112438-0.0305365im   0.0204225-0.0951959im\n",
      " 0.0996108+0.011892im     -0.2267-0.298624im     0.106108-0.00438575im   0.124766+0.0687761im\n",
      "  0.112438-0.0305365im   0.106108-0.00438575im  0.0916384+0.0233439im   0.0615202-0.180099im\n",
      " 0.0204225-0.0951959im   0.124766+0.0687761im   0.0615202-0.180099im     0.124766+0.0687761im\n",
      "\n",
      "[:, :, 3] =\n",
      " 0.0371631-0.00624255im   0.112438-0.0305365im      0.158434+0.0971723im   0.112438-0.0305365im\n",
      "  0.112438-0.0305365im    0.106108-0.00438575im    0.0916384+0.0233439im  0.0615202-0.180099im\n",
      "  0.158434+0.0971723im   0.0916384+0.0233439im   -0.00450261-0.431121im   0.0916384+0.0233439im\n",
      "  0.112438-0.0305365im   0.0615202-0.180099im      0.0916384+0.0233439im   0.106108-0.00438575im\n",
      "\n",
      "[:, :, 4] =\n",
      "  0.105819+0.0508186im  0.0204225-0.0951959im   0.112438-0.0305365im   0.0996108+0.011892im\n",
      " 0.0204225-0.0951959im   0.124766+0.0687761im  0.0615202-0.180099im     0.124766+0.0687761im\n",
      "  0.112438-0.0305365im  0.0615202-0.180099im   0.0916384+0.0233439im    0.106108-0.00438575im\n",
      " 0.0996108+0.011892im    0.124766+0.0687761im   0.106108-0.00438575im    -0.2267-0.298624im\u001b[91m\u001b[1mTest Failed\u001b[22m\u001b[39m at \u001b[39m\u001b[1mIn[23]:14\u001b[22m\n",
      "  Expression: all(conv_pp_fft_test ./ kG.Nk .≈ expandKArr(kG, conv_pp_test))\n",
      "\n"
     ]
    },
    {
     "ename": "LoadError",
     "evalue": "\u001b[91mThere was an error during testing\u001b[39m",
     "output_type": "error",
     "traceback": [
      "\u001b[91mThere was an error during testing\u001b[39m",
      "",
      "Stacktrace:",
      " [1] record(ts::Test.FallbackTestSet, t::Union{Test.Error, Test.Fail})",
      "   @ Test ~/julia/share/julia/stdlib/v1.9/Test/src/Test.jl:960",
      " [2] do_test(result::Test.ExecutionResult, orig_expr::Any)",
      "   @ Test ~/julia/share/julia/stdlib/v1.9/Test/src/Test.jl:670",
      " [3] top-level scope",
      "   @ ~/julia/share/julia/stdlib/v1.9/Test/src/Test.jl:478"
     ]
    }
   ],
   "source": [
    "conv_pp_naive,_,_ = naive_conv(arr1_sym, arr2_sym, q0, pp=true);\n",
    "conv_pp_test = Dispersions.conv(kG, reduceKArr(kG,arr1_sym), reduceKArr(kG, arr2_sym), crosscorrelation=false)\n",
    "conv_pp_fft_test = circshift(ifft(fft(arr1_sym) .* fft(arr2_sym)), -0 .* q0 .+ 2)\n",
    "\n",
    "#show(stdout, \"text/plain\", expandKArr(kG, conv_pp_test))\n",
    "#println(\"\\n===============================\")\n",
    "#show(stdout, \"text/plain\", kG.cache1 ./ kG.Nk)\n",
    "#println(\"\\n===============================\")\n",
    "show(stdout, \"text/plain\", conv_pp_naive  ./ kG.Nk )\n",
    "println(\"\\n===============================\")\n",
    "show(stdout, \"text/plain\", conv_pp_fft_test ./ kG.Nk)\n",
    "\n",
    "@test all(conv_pp_fft_test .≈ conv_pp_naive)\n",
    "@test all(conv_pp_fft_test ./ kG.Nk .≈ expandKArr(kG, conv_pp_test))"
   ]
  },
  {
   "cell_type": "code",
   "execution_count": 9,
   "id": "2a6737bf-33b4-45ce-a055-d7d879f4773a",
   "metadata": {},
   "outputs": [
    {
     "data": {
      "text/plain": [
       "\u001b[32m\u001b[1mTest Passed\u001b[22m\u001b[39m"
      ]
     },
     "execution_count": 9,
     "metadata": {},
     "output_type": "execute_result"
    }
   ],
   "source": [
    "@test all(arr1_c .== arr1_sym)\n",
    "@test all(arr2_c .== arr2_sym)"
   ]
  }
 ],
 "metadata": {
  "kernelspec": {
   "display_name": "Julia 1.9.3",
   "language": "julia",
   "name": "julia-1.9"
  },
  "language_info": {
   "file_extension": ".jl",
   "mimetype": "application/julia",
   "name": "julia",
   "version": "1.9.3"
  }
 },
 "nbformat": 4,
 "nbformat_minor": 5
}
