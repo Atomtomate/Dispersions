{
 "cells": [
  {
   "cell_type": "code",
   "execution_count": 92,
   "id": "cba66c71-747d-4232-9d7c-b2786b5e372c",
   "metadata": {},
   "outputs": [
    {
     "name": "stderr",
     "output_type": "stream",
     "text": [
      "\u001b[32m\u001b[1m  Activating\u001b[22m\u001b[39m project at `~/Codes/Dispersions.jl`\n"
     ]
    },
    {
     "data": {
      "text/plain": [
       "fcc_dispersion (generic function with 1 method)"
      ]
     },
     "execution_count": 92,
     "metadata": {},
     "output_type": "execute_result"
    }
   ],
   "source": [
    "using Pkg\n",
    "Pkg.activate(\"..\")\n",
    "using Dispersions\n",
    "using Test\n",
    "using FFTW\n",
    "include(\"../test/helper_functions.jl\")"
   ]
  },
  {
   "cell_type": "code",
   "execution_count": 180,
   "id": "edacaa41-b39d-43eb-bf68-860790c37107",
   "metadata": {},
   "outputs": [],
   "source": [
    "Ns = 4\n",
    "\n",
    "\n",
    "gr = \"fcc-1.1\"\n",
    "kG = gen_kGrid(gr, Ns)\n",
    "\n",
    "v_full = collect(Dispersions.gen_sampling(grid_type(kG), 2, Ns))\n",
    "q0 = Tuple(findfirst(x-> all(x .≈ 0), v_full))\n",
    "\n",
    "arr1 = randn(ComplexF64, gridshape(kG))\n",
    "arr2 = randn(ComplexF64, gridshape(kG))\n",
    "arr1_sym = expandKArr(kG, reduceKArr(kG, arr1))\n",
    "arr2_sym = expandKArr(kG, reduceKArr(kG, arr2))\n",
    "arr1_c = deepcopy(arr1_sym)\n",
    "arr2_c = deepcopy(arr2_sym);"
   ]
  },
  {
   "cell_type": "code",
   "execution_count": 181,
   "id": "12a0700c-3c97-417c-a8c0-9cb78a8fe2cc",
   "metadata": {},
   "outputs": [],
   "source": [
    "res_pp, dbg_i_pp, dbg_val_pp = naive_conv(v_full, v_full, pp=true, q0, round_entries=false);\n",
    "res_ph, dbg_i, dbg_val = naive_conv(v_full, v_full, pp=false, q0, round_entries=false);"
   ]
  },
  {
   "cell_type": "code",
   "execution_count": 182,
   "id": "3accd50a-b3ae-47ed-b717-edfd1437f16c",
   "metadata": {},
   "outputs": [
    {
     "name": "stdout",
     "output_type": "stream",
     "text": [
      "\u001b[91m\u001b[1mTest Failed\u001b[22m\u001b[39m at \u001b[39m\u001b[1mIn[182]:10\u001b[22m\n",
      "  Expression: all(map((x->begin\n",
      "                all(x[1] .≈ x[2])\n",
      "            end), zip(q_list_single, v_full)))\n",
      "\n"
     ]
    },
    {
     "ename": "LoadError",
     "evalue": "\u001b[91mThere was an error during testing\u001b[39m",
     "output_type": "error",
     "traceback": [
      "\u001b[91mThere was an error during testing\u001b[39m",
      "",
      "Stacktrace:",
      " [1] record(ts::Test.FallbackTestSet, t::Union{Test.Error, Test.Fail})",
      "   @ Test ~/julia/share/julia/stdlib/v1.9/Test/src/Test.jl:960",
      " [2] do_test(result::Test.ExecutionResult, orig_expr::Any)",
      "   @ Test ~/julia/share/julia/stdlib/v1.9/Test/src/Test.jl:670",
      " [3] top-level scope",
      "   @ ~/julia/share/julia/stdlib/v1.9/Test/src/Test.jl:478"
     ]
    }
   ],
   "source": [
    "q_list = map(el->check_q(el, Ns), dbg_val);\n",
    "# preprocess rounds all entries in order for unqiue to work\n",
    "q_list_pre = map(x -> map(xi -> round.(xi,digits=8), x), q_list)\n",
    "q_list_pre = map(x -> map(xi -> map(xii -> xii ≈ 0 ? abs(xii) : xii, xi), x), q_list_pre)\n",
    "# Test if all entries have the same common q difference\n",
    "@test all(map(qi_list -> length(unique(qi_list)) == 1, q_list_pre))\n",
    "# Extract only q vector (since we checked that only one unique exists\n",
    "q_list_single = map(x->x[1], q_list_pre)\n",
    "# Test if all q-vectors are at the correct index\n",
    "@test all(map(x-> all(x[1] .≈ x[2]), zip(q_list_single, v_full)))\n",
    "# Test if all possible q-vectors are contained in convolution\n",
    "@test all(map(el -> all(el[1] .≈ el[2]), zip(sort(unique(v_full)[:]), sort(map(qi->qi[1], q_list_pre)[:]))))\n",
    "# Test if all combinations of k_i and k_{i+j} are contained in each result index\n",
    "@test all(map(entry -> length(unique(map(x->x[1], entry))), dbg_val) .== Ns*Ns)\n",
    "@test all(map(entry -> length(unique(map(x->x[2], entry))), dbg_val) .== Ns*Ns)"
   ]
  },
  {
   "cell_type": "code",
   "execution_count": 183,
   "id": "645ffc61-eb8c-4571-8215-cc39f6737fbf",
   "metadata": {},
   "outputs": [
    {
     "name": "stdout",
     "output_type": "stream",
     "text": [
      "\u001b[91m\u001b[1mTest Failed\u001b[22m\u001b[39m at \u001b[39m\u001b[1mIn[183]:10\u001b[22m\n",
      "  Expression: all(map((x->begin\n",
      "                all(x[1] .≈ x[2])\n",
      "            end), zip(q_list_pp_single, v_full)))\n",
      "\n"
     ]
    },
    {
     "ename": "LoadError",
     "evalue": "\u001b[91mThere was an error during testing\u001b[39m",
     "output_type": "error",
     "traceback": [
      "\u001b[91mThere was an error during testing\u001b[39m",
      "",
      "Stacktrace:",
      " [1] record(ts::Test.FallbackTestSet, t::Union{Test.Error, Test.Fail})",
      "   @ Test ~/julia/share/julia/stdlib/v1.9/Test/src/Test.jl:960",
      " [2] do_test(result::Test.ExecutionResult, orig_expr::Any)",
      "   @ Test ~/julia/share/julia/stdlib/v1.9/Test/src/Test.jl:670",
      " [3] top-level scope",
      "   @ ~/julia/share/julia/stdlib/v1.9/Test/src/Test.jl:478"
     ]
    }
   ],
   "source": [
    "q_list_pp = map(el->check_q(el, Ns, pp=true), dbg_val_pp);\n",
    "# preprocess rounds all entries in order for unqiue to work\n",
    "q_list_pp_pre = map(x -> map(xi -> round.(xi,digits=8), x), q_list_pp)\n",
    "q_list_pp_pre = map(x -> map(xi -> map(xii -> xii ≈ 0 ? abs(xii) : xii, xi), x), q_list_pp_pre)\n",
    "# Test if all entries have the same common q difference\n",
    "@test all(map(qi_list -> length(unique(qi_list)) == 1, q_list_pp_pre))\n",
    "# extract only q vector (since we checked that only one unique exists\n",
    "q_list_pp_single = map(x->x[1], q_list_pp_pre)\n",
    "# test if all q-vectors are at the correct index\n",
    "@test all(map(x-> all(x[1] .≈ x[2]), zip(q_list_pp_single, v_full)))\n",
    "# Test if all possible q-vectors are contained in convolution\n",
    "@test all(map(el -> all(el[1] .≈ el[2]), zip(sort(unique(v_full)[:]), sort(map(qi->qi[1], q_list_pp_pre)[:]))))\n",
    "# Test if all combinations of k_i and k_{i+j} are contained in each result index\n",
    "@test all(map(entry -> length(unique(map(x->x[1], entry))), dbg_val_pp) .== Ns*Ns)\n",
    "@test all(map(entry -> length(unique(map(x->x[2], entry))), dbg_val_pp) .== Ns*Ns)"
   ]
  },
  {
   "cell_type": "code",
   "execution_count": 184,
   "id": "b0ed33cc-b13f-41fc-8a00-fecc17bdfd29",
   "metadata": {
    "scrolled": true
   },
   "outputs": [
    {
     "name": "stdout",
     "output_type": "stream",
     "text": [
      "4×4×4 Array{ComplexF64, 3}:\n",
      "[:, :, 1] =\n",
      " -0.277594+0.066713im    0.0486769+0.0175387im  0.0635162-0.17637im     0.0486769+0.0175387im\n",
      " 0.0486769+0.0175387im  -0.0522334-0.164458im   0.0614679+0.0729431im   -0.117465-0.0423572im\n",
      " 0.0635162-0.17637im     0.0614679+0.0729431im  0.0708339-0.0598174im   0.0614679+0.0729431im\n",
      " 0.0486769+0.0175387im   -0.117465-0.0423572im  0.0614679+0.0729431im  -0.0522334-0.164458im\n",
      "\n",
      "[:, :, 2] =\n",
      "  0.0486769+0.0175387im  -0.0522334-0.164458im    0.0614679+0.0729431im  -0.117465-0.0423572im\n",
      " -0.0522334-0.164458im     0.192215+0.138441im   -0.0696182-0.0592459im  0.0551615+0.0589822im\n",
      "  0.0614679+0.0729431im  -0.0696182-0.0592459im   0.0674762+0.0596842im  -0.109823-0.0448006im\n",
      "  -0.117465-0.0423572im   0.0551615+0.0589822im   -0.109823-0.0448006im  0.0551615+0.0589822im\n",
      "\n",
      "[:, :, 3] =\n",
      " 0.0635162-0.17637im     0.0614679+0.0729431im  0.0708339-0.0598174im   0.0614679+0.0729431im\n",
      " 0.0614679+0.0729431im  -0.0696182-0.0592459im  0.0674762+0.0596842im   -0.109823-0.0448006im\n",
      " 0.0708339-0.0598174im   0.0674762+0.0596842im  -0.108997+0.0324847im   0.0674762+0.0596842im\n",
      " 0.0614679+0.0729431im   -0.109823-0.0448006im  0.0674762+0.0596842im  -0.0696182-0.0592459im\n",
      "\n",
      "[:, :, 4] =\n",
      "  0.0486769+0.0175387im  -0.117465-0.0423572im   0.0614679+0.0729431im  -0.0522334-0.164458im\n",
      "  -0.117465-0.0423572im  0.0551615+0.0589822im   -0.109823-0.0448006im   0.0551615+0.0589822im\n",
      "  0.0614679+0.0729431im  -0.109823-0.0448006im   0.0674762+0.0596842im  -0.0696182-0.0592459im\n",
      " -0.0522334-0.164458im   0.0551615+0.0589822im  -0.0696182-0.0592459im    0.192215+0.138441im\n",
      "===============================\n",
      "4×4×4 Array{ComplexF64, 3}:\n",
      "[:, :, 1] =\n",
      "   0.192215+0.138441im   -0.0696182-0.0592459im  0.0551615+0.0589822im  -0.0522334-0.164458im\n",
      " -0.0696182-0.0592459im   0.0674762+0.0596842im  -0.109823-0.0448006im   0.0614679+0.0729431im\n",
      "  0.0551615+0.0589822im   -0.109823-0.0448006im  0.0551615+0.0589822im   -0.117465-0.0423572im\n",
      " -0.0522334-0.164458im    0.0614679+0.0729431im  -0.117465-0.0423572im   0.0486769+0.0175387im\n",
      "\n",
      "[:, :, 2] =\n",
      " -0.0696182-0.0592459im  0.0674762+0.0596842im   -0.109823-0.0448006im  0.0614679+0.0729431im\n",
      "  0.0674762+0.0596842im  -0.108997+0.0324847im   0.0674762+0.0596842im  0.0708339-0.0598174im\n",
      "  -0.109823-0.0448006im  0.0674762+0.0596842im  -0.0696182-0.0592459im  0.0614679+0.0729431im\n",
      "  0.0614679+0.0729431im  0.0708339-0.0598174im   0.0614679+0.0729431im  0.0635162-0.17637im\n",
      "\n",
      "[:, :, 3] =\n",
      " 0.0551615+0.0589822im   -0.109823-0.0448006im   0.0551615+0.0589822im   -0.117465-0.0423572im\n",
      " -0.109823-0.0448006im   0.0674762+0.0596842im  -0.0696182-0.0592459im   0.0614679+0.0729431im\n",
      " 0.0551615+0.0589822im  -0.0696182-0.0592459im    0.192215+0.138441im   -0.0522334-0.164458im\n",
      " -0.117465-0.0423572im   0.0614679+0.0729431im  -0.0522334-0.164458im    0.0486769+0.0175387im\n",
      "\n",
      "[:, :, 4] =\n",
      " -0.0522334-0.164458im   0.0614679+0.0729431im   -0.117465-0.0423572im  0.0486769+0.0175387im\n",
      "  0.0614679+0.0729431im  0.0708339-0.0598174im   0.0614679+0.0729431im  0.0635162-0.17637im\n",
      "  -0.117465-0.0423572im  0.0614679+0.0729431im  -0.0522334-0.164458im   0.0486769+0.0175387im\n",
      "  0.0486769+0.0175387im  0.0635162-0.17637im     0.0486769+0.0175387im  -0.277594+0.066713im\n",
      "===============================\n",
      "4×4×4 Array{ComplexF64, 3}:\n",
      "[:, :, 1] =\n",
      " -0.277594+0.066713im    0.0486769+0.0175387im  0.0635162-0.17637im     0.0486769+0.0175387im\n",
      " 0.0486769+0.0175387im  -0.0522334-0.164458im   0.0614679+0.0729431im   -0.117465-0.0423572im\n",
      " 0.0635162-0.17637im     0.0614679+0.0729431im  0.0708339-0.0598174im   0.0614679+0.0729431im\n",
      " 0.0486769+0.0175387im   -0.117465-0.0423572im  0.0614679+0.0729431im  -0.0522334-0.164458im\n",
      "\n",
      "[:, :, 2] =\n",
      "  0.0486769+0.0175387im  -0.0522334-0.164458im    0.0614679+0.0729431im  -0.117465-0.0423572im\n",
      " -0.0522334-0.164458im     0.192215+0.138441im   -0.0696182-0.0592459im  0.0551615+0.0589822im\n",
      "  0.0614679+0.0729431im  -0.0696182-0.0592459im   0.0674762+0.0596842im  -0.109823-0.0448006im\n",
      "  -0.117465-0.0423572im   0.0551615+0.0589822im   -0.109823-0.0448006im  0.0551615+0.0589822im\n",
      "\n",
      "[:, :, 3] =\n",
      " 0.0635162-0.17637im     0.0614679+0.0729431im  0.0708339-0.0598174im   0.0614679+0.0729431im\n",
      " 0.0614679+0.0729431im  -0.0696182-0.0592459im  0.0674762+0.0596842im   -0.109823-0.0448006im\n",
      " 0.0708339-0.0598174im   0.0674762+0.0596842im  -0.108997+0.0324847im   0.0674762+0.0596842im\n",
      " 0.0614679+0.0729431im   -0.109823-0.0448006im  0.0674762+0.0596842im  -0.0696182-0.0592459im\n",
      "\n",
      "[:, :, 4] =\n",
      "  0.0486769+0.0175387im  -0.117465-0.0423572im   0.0614679+0.0729431im  -0.0522334-0.164458im\n",
      "  -0.117465-0.0423572im  0.0551615+0.0589822im   -0.109823-0.0448006im   0.0551615+0.0589822im\n",
      "  0.0614679+0.0729431im  -0.109823-0.0448006im   0.0674762+0.0596842im  -0.0696182-0.0592459im\n",
      " -0.0522334-0.164458im   0.0551615+0.0589822im  -0.0696182-0.0592459im    0.192215+0.138441im\n",
      "===============================\n",
      "4×4×4 Array{ComplexF64, 3}:\n",
      "[:, :, 1] =\n",
      " -0.277594+0.066713im    0.0486769+0.0175387im  0.0635162-0.17637im     0.0486769+0.0175387im\n",
      " 0.0486769+0.0175387im  -0.0522334-0.164458im   0.0614679+0.0729431im   -0.117465-0.0423572im\n",
      " 0.0635162-0.17637im     0.0614679+0.0729431im  0.0708339-0.0598174im   0.0614679+0.0729431im\n",
      " 0.0486769+0.0175387im   -0.117465-0.0423572im  0.0614679+0.0729431im  -0.0522334-0.164458im\n",
      "\n",
      "[:, :, 2] =\n",
      "  0.0486769+0.0175387im  -0.0522334-0.164458im    0.0614679+0.0729431im  -0.117465-0.0423572im\n",
      " -0.0522334-0.164458im     0.192215+0.138441im   -0.0696182-0.0592459im  0.0551615+0.0589822im\n",
      "  0.0614679+0.0729431im  -0.0696182-0.0592459im   0.0674762+0.0596842im  -0.109823-0.0448006im\n",
      "  -0.117465-0.0423572im   0.0551615+0.0589822im   -0.109823-0.0448006im  0.0551615+0.0589822im\n",
      "\n",
      "[:, :, 3] =\n",
      " 0.0635162-0.17637im     0.0614679+0.0729431im  0.0708339-0.0598174im   0.0614679+0.0729431im\n",
      " 0.0614679+0.0729431im  -0.0696182-0.0592459im  0.0674762+0.0596842im   -0.109823-0.0448006im\n",
      " 0.0708339-0.0598174im   0.0674762+0.0596842im  -0.108997+0.0324847im   0.0674762+0.0596842im\n",
      " 0.0614679+0.0729431im   -0.109823-0.0448006im  0.0674762+0.0596842im  -0.0696182-0.0592459im\n",
      "\n",
      "[:, :, 4] =\n",
      "  0.0486769+0.0175387im  -0.117465-0.0423572im   0.0614679+0.0729431im  -0.0522334-0.164458im\n",
      "  -0.117465-0.0423572im  0.0551615+0.0589822im   -0.109823-0.0448006im   0.0551615+0.0589822im\n",
      "  0.0614679+0.0729431im  -0.109823-0.0448006im   0.0674762+0.0596842im  -0.0696182-0.0592459im\n",
      " -0.0522334-0.164458im   0.0551615+0.0589822im  -0.0696182-0.0592459im    0.192215+0.138441im"
     ]
    },
    {
     "data": {
      "text/plain": [
       "\u001b[32m\u001b[1mTest Passed\u001b[22m\u001b[39m"
      ]
     },
     "execution_count": 184,
     "metadata": {},
     "output_type": "execute_result"
    }
   ],
   "source": [
    "conv_ph_naive,_,_ = naive_conv(arr1_sym, arr2_sym, q0, pp=false);\n",
    "conv_test = Dispersions.conv(kG, reduceKArr(kG,arr1_sym), reduceKArr(kG,arr2_sym), crosscorrelation=true)\n",
    "conv_ph_fft_test = circshift(reverse(ifft(fft(arr1_sym) .* fft(reverse(arr2_sym)))), q0 .- 1)\n",
    "\n",
    "show(stdout, \"text/plain\", expandKArr(kG, conv_test))\n",
    "println(\"\\n===============================\")\n",
    "show(stdout, \"text/plain\", kG.cache1 ./ kG.Nk)\n",
    "println(\"\\n===============================\")\n",
    "show(stdout, \"text/plain\", conv_ph_naive ./ kG.Nk)\n",
    "println(\"\\n===============================\")\n",
    "show(stdout, \"text/plain\", conv_ph_fft_test ./ kG.Nk)\n",
    "\n",
    "@test all(conv_ph_fft_test .≈ conv_ph_naive)\n",
    "@test all(conv_ph_fft_test .≈ expandKArr(kG, conv_test) .* kG.Nk)"
   ]
  },
  {
   "cell_type": "code",
   "execution_count": 185,
   "id": "26499511-f7e5-43a9-890d-6c099734b454",
   "metadata": {},
   "outputs": [
    {
     "name": "stdout",
     "output_type": "stream",
     "text": [
      "4×4×4 Array{ComplexF64, 3}:\n",
      "[:, :, 1] =\n",
      " -0.108997+0.0324847im   0.0674762+0.0596842im  0.0708339-0.0598174im   0.0674762+0.0596842im\n",
      " 0.0674762+0.0596842im  -0.0696182-0.0592459im  0.0614679+0.0729431im   -0.109823-0.0448006im\n",
      " 0.0708339-0.0598174im   0.0614679+0.0729431im  0.0635162-0.17637im     0.0614679+0.0729431im\n",
      " 0.0674762+0.0596842im   -0.109823-0.0448006im  0.0614679+0.0729431im  -0.0696182-0.0592459im\n",
      "\n",
      "[:, :, 2] =\n",
      "  0.0674762+0.0596842im  -0.0696182-0.0592459im   0.0614679+0.0729431im  -0.109823-0.0448006im\n",
      " -0.0696182-0.0592459im    0.192215+0.138441im   -0.0522334-0.164458im   0.0551615+0.0589822im\n",
      "  0.0614679+0.0729431im  -0.0522334-0.164458im    0.0486769+0.0175387im  -0.117465-0.0423572im\n",
      "  -0.109823-0.0448006im   0.0551615+0.0589822im   -0.117465-0.0423572im  0.0551615+0.0589822im\n",
      "\n",
      "[:, :, 3] =\n",
      " 0.0708339-0.0598174im   0.0614679+0.0729431im  0.0635162-0.17637im     0.0614679+0.0729431im\n",
      " 0.0614679+0.0729431im  -0.0522334-0.164458im   0.0486769+0.0175387im   -0.117465-0.0423572im\n",
      " 0.0635162-0.17637im     0.0486769+0.0175387im  -0.277594+0.066713im    0.0486769+0.0175387im\n",
      " 0.0614679+0.0729431im   -0.117465-0.0423572im  0.0486769+0.0175387im  -0.0522334-0.164458im\n",
      "\n",
      "[:, :, 4] =\n",
      "  0.0674762+0.0596842im  -0.109823-0.0448006im   0.0614679+0.0729431im  -0.0696182-0.0592459im\n",
      "  -0.109823-0.0448006im  0.0551615+0.0589822im   -0.117465-0.0423572im   0.0551615+0.0589822im\n",
      "  0.0614679+0.0729431im  -0.117465-0.0423572im   0.0486769+0.0175387im  -0.0522334-0.164458im\n",
      " -0.0696182-0.0592459im  0.0551615+0.0589822im  -0.0522334-0.164458im     0.192215+0.138441im\n",
      "===============================\n",
      "4×4×4 Array{ComplexF64, 3}:\n",
      "[:, :, 1] =\n",
      " -0.108997+0.0324847im   0.0674762+0.0596842im  0.0708339-0.0598174im   0.0674762+0.0596842im\n",
      " 0.0674762+0.0596842im  -0.0696182-0.0592459im  0.0614679+0.0729431im   -0.109823-0.0448006im\n",
      " 0.0708339-0.0598174im   0.0614679+0.0729431im  0.0635162-0.17637im     0.0614679+0.0729431im\n",
      " 0.0674762+0.0596842im   -0.109823-0.0448006im  0.0614679+0.0729431im  -0.0696182-0.0592459im\n",
      "\n",
      "[:, :, 2] =\n",
      "  0.0674762+0.0596842im  -0.0696182-0.0592459im   0.0614679+0.0729431im  -0.109823-0.0448006im\n",
      " -0.0696182-0.0592459im    0.192215+0.138441im   -0.0522334-0.164458im   0.0551615+0.0589822im\n",
      "  0.0614679+0.0729431im  -0.0522334-0.164458im    0.0486769+0.0175387im  -0.117465-0.0423572im\n",
      "  -0.109823-0.0448006im   0.0551615+0.0589822im   -0.117465-0.0423572im  0.0551615+0.0589822im\n",
      "\n",
      "[:, :, 3] =\n",
      " 0.0708339-0.0598174im   0.0614679+0.0729431im  0.0635162-0.17637im     0.0614679+0.0729431im\n",
      " 0.0614679+0.0729431im  -0.0522334-0.164458im   0.0486769+0.0175387im   -0.117465-0.0423572im\n",
      " 0.0635162-0.17637im     0.0486769+0.0175387im  -0.277594+0.066713im    0.0486769+0.0175387im\n",
      " 0.0614679+0.0729431im   -0.117465-0.0423572im  0.0486769+0.0175387im  -0.0522334-0.164458im\n",
      "\n",
      "[:, :, 4] =\n",
      "  0.0674762+0.0596842im  -0.109823-0.0448006im   0.0614679+0.0729431im  -0.0696182-0.0592459im\n",
      "  -0.109823-0.0448006im  0.0551615+0.0589822im   -0.117465-0.0423572im   0.0551615+0.0589822im\n",
      "  0.0614679+0.0729431im  -0.117465-0.0423572im   0.0486769+0.0175387im  -0.0522334-0.164458im\n",
      " -0.0696182-0.0592459im  0.0551615+0.0589822im  -0.0522334-0.164458im     0.192215+0.138441im"
     ]
    },
    {
     "data": {
      "text/plain": [
       "\u001b[32m\u001b[1mTest Passed\u001b[22m\u001b[39m"
      ]
     },
     "execution_count": 185,
     "metadata": {},
     "output_type": "execute_result"
    }
   ],
   "source": [
    "conv_pp_naive,_,_ = naive_conv(arr1_sym, arr2_sym, q0, pp=true);\n",
    "conv_pp_test = Dispersions.conv(kG, reduceKArr(kG,arr1_sym), reduceKArr(kG, arr2_sym), crosscorrelation=false)\n",
    "conv_pp_fft_test = circshift(ifft(fft(arr1_sym) .* fft(arr2_sym)), -0 .* q0 .+ 2)\n",
    "\n",
    "#show(stdout, \"text/plain\", expandKArr(kG, conv_pp_test))\n",
    "#println(\"\\n===============================\")\n",
    "#show(stdout, \"text/plain\", kG.cache1 ./ kG.Nk)\n",
    "#println(\"\\n===============================\")\n",
    "show(stdout, \"text/plain\", conv_pp_naive  ./ kG.Nk )\n",
    "println(\"\\n===============================\")\n",
    "show(stdout, \"text/plain\", conv_pp_fft_test ./ kG.Nk)\n",
    "\n",
    "@test all(conv_pp_fft_test .≈ conv_pp_naive)\n",
    "@test all(conv_pp_fft_test ./ kG.Nk .≈ expandKArr(kG, conv_pp_test))"
   ]
  },
  {
   "cell_type": "code",
   "execution_count": 186,
   "id": "2a6737bf-33b4-45ce-a055-d7d879f4773a",
   "metadata": {},
   "outputs": [
    {
     "data": {
      "text/plain": [
       "\u001b[32m\u001b[1mTest Passed\u001b[22m\u001b[39m"
      ]
     },
     "execution_count": 186,
     "metadata": {},
     "output_type": "execute_result"
    }
   ],
   "source": [
    "@test all(arr1_c .== arr1_sym)\n",
    "@test all(arr2_c .== arr2_sym)"
   ]
  },
  {
   "cell_type": "markdown",
   "id": "112660d0-79d3-42b4-86f2-98f323cd1702",
   "metadata": {},
   "source": [
    "# k-k'"
   ]
  },
  {
   "cell_type": "code",
   "execution_count": 187,
   "id": "8fd2363a-51c8-43a6-bf22-2cee83618aa1",
   "metadata": {},
   "outputs": [
    {
     "data": {
      "text/plain": [
       "true"
      ]
     },
     "execution_count": 187,
     "metadata": {},
     "output_type": "execute_result"
    }
   ],
   "source": [
    "all(map(x-> all(x[1] .≈ x[2]) , zip(k_plus_q, k_plus_q2[:])))"
   ]
  },
  {
   "cell_type": "code",
   "execution_count": 188,
   "id": "565ad168-38bb-4b63-b4e9-c0b3740ae019",
   "metadata": {},
   "outputs": [
    {
     "name": "stdout",
     "output_type": "stream",
     "text": [
      "4×4×4 Array{Tuple{Float64, Float64, Float64}, 3}:\n",
      "[:, :, 1] =\n",
      " (0.0, 0.0, 0.0)      (0.0, 1.5708, 0.0)      (0.0, 3.14159, 0.0)      (0.0, 4.71239, 0.0)\n",
      " (1.5708, 0.0, 0.0)   (1.5708, 1.5708, 0.0)   (1.5708, 3.14159, 0.0)   (1.5708, 4.71239, 0.0)\n",
      " (3.14159, 0.0, 0.0)  (3.14159, 1.5708, 0.0)  (3.14159, 3.14159, 0.0)  (3.14159, 4.71239, 0.0)\n",
      " (4.71239, 0.0, 0.0)  (4.71239, 1.5708, 0.0)  (4.71239, 3.14159, 0.0)  (4.71239, 4.71239, 0.0)\n",
      "\n",
      "[:, :, 2] =\n",
      " (0.0, 0.0, 1.5708)      (0.0, 1.5708, 1.5708)      (0.0, 3.14159, 1.5708)      (0.0, 4.71239, 1.5708)\n",
      " (1.5708, 0.0, 1.5708)   (1.5708, 1.5708, 1.5708)   (1.5708, 3.14159, 1.5708)   (1.5708, 4.71239, 1.5708)\n",
      " (3.14159, 0.0, 1.5708)  (3.14159, 1.5708, 1.5708)  (3.14159, 3.14159, 1.5708)  (3.14159, 4.71239, 1.5708)\n",
      " (4.71239, 0.0, 1.5708)  (4.71239, 1.5708, 1.5708)  (4.71239, 3.14159, 1.5708)  (4.71239, 4.71239, 1.5708)\n",
      "\n",
      "[:, :, 3] =\n",
      " (0.0, 0.0, 3.14159)      (0.0, 1.5708, 3.14159)      (0.0, 3.14159, 3.14159)      (0.0, 4.71239, 3.14159)\n",
      " (1.5708, 0.0, 3.14159)   (1.5708, 1.5708, 3.14159)   (1.5708, 3.14159, 3.14159)   (1.5708, 4.71239, 3.14159)\n",
      " (3.14159, 0.0, 3.14159)  (3.14159, 1.5708, 3.14159)  (3.14159, 3.14159, 3.14159)  (3.14159, 4.71239, 3.14159)\n",
      " (4.71239, 0.0, 3.14159)  (4.71239, 1.5708, 3.14159)  (4.71239, 3.14159, 3.14159)  (4.71239, 4.71239, 3.14159)\n",
      "\n",
      "[:, :, 4] =\n",
      " (0.0, 0.0, 4.71239)      (0.0, 1.5708, 4.71239)      (0.0, 3.14159, 4.71239)      (0.0, 4.71239, 4.71239)\n",
      " (1.5708, 0.0, 4.71239)   (1.5708, 1.5708, 4.71239)   (1.5708, 3.14159, 4.71239)   (1.5708, 4.71239, 4.71239)\n",
      " (3.14159, 0.0, 4.71239)  (3.14159, 1.5708, 4.71239)  (3.14159, 3.14159, 4.71239)  (3.14159, 4.71239, 4.71239)\n",
      " (4.71239, 0.0, 4.71239)  (4.71239, 1.5708, 4.71239)  (4.71239, 3.14159, 4.71239)  (4.71239, 4.71239, 4.71239)"
     ]
    }
   ],
   "source": [
    "v_full\n",
    "show(stdout, \"text/plain\", v_full)"
   ]
  },
  {
   "cell_type": "code",
   "execution_count": 149,
   "id": "b841ece3-d75c-4ca5-9991-0028bd9c5919",
   "metadata": {},
   "outputs": [
    {
     "name": "stdout",
     "output_type": "stream",
     "text": [
      "6×6 Matrix{Tuple{Float64, Float64}}:\n",
      " (2.0944, 2.0944)    (2.0944, 1.0472)    (2.0944, -0.0)    (2.0944, -1.0472)    (2.0944, -2.0944)    (2.0944, -3.14159)\n",
      " (1.0472, 2.0944)    (1.0472, 1.0472)    (1.0472, -0.0)    (1.0472, -1.0472)    (1.0472, -2.0944)    (1.0472, -3.14159)\n",
      " (-0.0, 2.0944)      (-0.0, 1.0472)      (-0.0, -0.0)      (-0.0, -1.0472)      (-0.0, -2.0944)      (-0.0, -3.14159)\n",
      " (-1.0472, 2.0944)   (-1.0472, 1.0472)   (-1.0472, -0.0)   (-1.0472, -1.0472)   (-1.0472, -2.0944)   (-1.0472, -3.14159)\n",
      " (-2.0944, 2.0944)   (-2.0944, 1.0472)   (-2.0944, -0.0)   (-2.0944, -1.0472)   (-2.0944, -2.0944)   (-2.0944, -3.14159)\n",
      " (-3.14159, 2.0944)  (-3.14159, 1.0472)  (-3.14159, -0.0)  (-3.14159, -1.0472)  (-3.14159, -2.0944)  (-3.14159, -3.14159)"
     ]
    }
   ],
   "source": [
    "minus_v_full = map(x-> -1 .* x, v_full)\n",
    "show(stdout, \"text/plain\", minus_v_full)"
   ]
  },
  {
   "cell_type": "code",
   "execution_count": 138,
   "id": "f04e10da-7fe0-4bc9-9204-26966c45f452",
   "metadata": {},
   "outputs": [
    {
     "name": "stdout",
     "output_type": "stream",
     "text": [
      "6×6 Matrix{Tuple{Float64, Float64}}:\n",
      " (2.0944, 2.0944)   (2.0944, 1.0472)   (2.0944, 0.0)   (2.0944, -1.0472)   (2.0944, -2.0944)   (2.0944, 3.14159)\n",
      " (1.0472, 2.0944)   (1.0472, 1.0472)   (1.0472, 0.0)   (1.0472, -1.0472)   (1.0472, -2.0944)   (1.0472, 3.14159)\n",
      " (0.0, 2.0944)      (0.0, 1.0472)      (0.0, 0.0)      (0.0, -1.0472)      (0.0, -2.0944)      (0.0, 3.14159)\n",
      " (-1.0472, 2.0944)  (-1.0472, 1.0472)  (-1.0472, 0.0)  (-1.0472, -1.0472)  (-1.0472, -2.0944)  (-1.0472, 3.14159)\n",
      " (-2.0944, 2.0944)  (-2.0944, 1.0472)  (-2.0944, 0.0)  (-2.0944, -1.0472)  (-2.0944, -2.0944)  (-2.0944, 3.14159)\n",
      " (3.14159, 2.0944)  (3.14159, 1.0472)  (3.14159, 0.0)  (3.14159, -1.0472)  (3.14159, -2.0944)  (3.14159, 3.14159)"
     ]
    }
   ],
   "source": [
    "shift_vec = 2 .* kG.k0 .- gridshape(kG) .- 1\n",
    "minus_v_full2 = circshift(reverse(v_full), shift_vec)\n",
    "show(stdout, \"text/plain\", minus_v_full2)"
   ]
  },
  {
   "cell_type": "code",
   "execution_count": 179,
   "id": "31eb1178-85cb-4fa4-b76c-a9f1e7f269fe",
   "metadata": {},
   "outputs": [
    {
     "data": {
      "text/plain": [
       "\u001b[32m\u001b[1mTest Passed\u001b[22m\u001b[39m"
      ]
     },
     "execution_count": 179,
     "metadata": {},
     "output_type": "execute_result"
    }
   ],
   "source": [
    "transform_k_to_minus_k(k) = map(ki -> ki != 0 ? mod.(-1 .* ki .+ π .- 1/Nk(kG), 2π) .- π .+ 1/Nk(kG) : ki, k)\n",
    "minus_vec_naive = map(transform_k_to_minus_k, v_full)\n",
    "@test all(map(x-> all(x[1] .≈ x[2]), zip(minus_vec_naive, minus_v_full2)))"
   ]
  },
  {
   "cell_type": "code",
   "execution_count": 163,
   "id": "acd1b6dd-a523-46f3-bc6b-9b114bff2a33",
   "metadata": {},
   "outputs": [
    {
     "name": "stdout",
     "output_type": "stream",
     "text": [
      "6×6 Matrix{Tuple{Float64, Float64}}:\n",
      " (2.0944, 2.0944)   (2.0944, 1.0472)   (2.0944, 0.0)   (2.0944, -1.0472)   (2.0944, -2.0944)   (2.0944, 3.14159)\n",
      " (1.0472, 2.0944)   (1.0472, 1.0472)   (1.0472, 0.0)   (1.0472, -1.0472)   (1.0472, -2.0944)   (1.0472, 3.14159)\n",
      " (0.0, 2.0944)      (0.0, 1.0472)      (0.0, 0.0)      (0.0, -1.0472)      (0.0, -2.0944)      (0.0, 3.14159)\n",
      " (-1.0472, 2.0944)  (-1.0472, 1.0472)  (-1.0472, 0.0)  (-1.0472, -1.0472)  (-1.0472, -2.0944)  (-1.0472, 3.14159)\n",
      " (-2.0944, 2.0944)  (-2.0944, 1.0472)  (-2.0944, 0.0)  (-2.0944, -1.0472)  (-2.0944, -2.0944)  (-2.0944, 3.14159)\n",
      " (3.14159, 2.0944)  (3.14159, 1.0472)  (3.14159, 0.0)  (3.14159, -1.0472)  (3.14159, -2.0944)  (3.14159, 3.14159)"
     ]
    }
   ],
   "source": [
    "\n",
    "show(stdout, \"text/plain\", minus_v_full2)"
   ]
  },
  {
   "cell_type": "code",
   "execution_count": 166,
   "id": "30631fbf-44eb-48e3-90e7-0dc710a1e03b",
   "metadata": {},
   "outputs": [
    {
     "name": "stdout",
     "output_type": "stream",
     "text": [
      "6×6 Matrix{Tuple{Float64, Float64}}:\n",
      " (2.0944, 2.0944)       (2.0944, 1.0472)       (2.0944, 9.71445e-17)       (2.0944, -1.0472)       (2.0944, -2.0944)       (2.0944, 3.14159)\n",
      " (1.0472, 2.0944)       (1.0472, 1.0472)       (1.0472, 9.71445e-17)       (1.0472, -1.0472)       (1.0472, -2.0944)       (1.0472, 3.14159)\n",
      " (9.71445e-17, 2.0944)  (9.71445e-17, 1.0472)  (9.71445e-17, 9.71445e-17)  (9.71445e-17, -1.0472)  (9.71445e-17, -2.0944)  (9.71445e-17, 3.14159)\n",
      " (-1.0472, 2.0944)      (-1.0472, 1.0472)      (-1.0472, 9.71445e-17)      (-1.0472, -1.0472)      (-1.0472, -2.0944)      (-1.0472, 3.14159)\n",
      " (-2.0944, 2.0944)      (-2.0944, 1.0472)      (-2.0944, 9.71445e-17)      (-2.0944, -1.0472)      (-2.0944, -2.0944)      (-2.0944, 3.14159)\n",
      " (3.14159, 2.0944)      (3.14159, 1.0472)      (3.14159, 9.71445e-17)      (3.14159, -1.0472)      (3.14159, -2.0944)      (3.14159, 3.14159)"
     ]
    }
   ],
   "source": [
    "\n",
    "\n",
    "show(stdout, \"text/plain\", tt)"
   ]
  },
  {
   "cell_type": "code",
   "execution_count": null,
   "id": "81192d5b-999a-4046-b90e-c41e587388d9",
   "metadata": {},
   "outputs": [],
   "source": []
  }
 ],
 "metadata": {
  "kernelspec": {
   "display_name": "Julia 1.9.3",
   "language": "julia",
   "name": "julia-1.9"
  },
  "language_info": {
   "file_extension": ".jl",
   "mimetype": "application/julia",
   "name": "julia",
   "version": "1.9.3"
  }
 },
 "nbformat": 4,
 "nbformat_minor": 5
}
