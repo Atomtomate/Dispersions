{
 "cells": [
  {
   "cell_type": "code",
   "execution_count": 2,
   "id": "5bbd21b7-9b33-4a4d-895b-dc474979ecb8",
   "metadata": {},
   "outputs": [
    {
     "name": "stderr",
     "output_type": "stream",
     "text": [
      "\u001b[32m\u001b[1m  Activating\u001b[22m\u001b[39m project at `~/Codes/Dispersions.jl`\n",
      "\u001b[36m\u001b[1m[ \u001b[22m\u001b[39m\u001b[36m\u001b[1mInfo: \u001b[22m\u001b[39mPrecompiling Dispersions [9451dd48-6b2a-4bde-a443-9ec270a37806]\n"
     ]
    }
   ],
   "source": [
    "using Pkg\n",
    "Pkg.activate(\"/home/julisn/Codes/Dispersions.jl/\")\n",
    "using Dispersions"
   ]
  },
  {
   "cell_type": "code",
   "execution_count": 11,
   "id": "0b96e23b-a22b-44e7-9a76-b225fbc54dfb",
   "metadata": {},
   "outputs": [
    {
     "data": {
      "text/plain": [
       "cPnn(t=0.25) grid in 2 dimensions with 100 k-points."
      ]
     },
     "execution_count": 11,
     "metadata": {},
     "output_type": "execute_result"
    }
   ],
   "source": [
    "Dispersions.gen_kGrid(\"2Dsc-0.25-0.2-0.1\", 10)"
   ]
  },
  {
   "cell_type": "code",
   "execution_count": null,
   "id": "81d660f3-57f6-4e1c-adcc-31befac07278",
   "metadata": {},
   "outputs": [],
   "source": []
  },
  {
   "cell_type": "code",
   "execution_count": null,
   "id": "7efbeb8c-49cb-4c6d-923a-62b0f98967e9",
   "metadata": {},
   "outputs": [],
   "source": []
  },
  {
   "cell_type": "code",
   "execution_count": 9,
   "id": "04284f6e-4390-4c6f-844c-e40d14374802",
   "metadata": {},
   "outputs": [
    {
     "name": "stdout",
     "output_type": "stream",
     "text": [
      "8×8 Matrix{Tuple{Float64, Float64}}:\n",
      " (-2.35619, -2.35619)   (-2.35619, -1.5708)   (-2.35619, -0.785398)   (-2.35619, 0.0)   (-2.35619, 0.785398)   (-2.35619, 1.5708)   (-2.35619, 2.35619)   (-2.35619, 3.14159)\n",
      " (-1.5708, -2.35619)    (-1.5708, -1.5708)    (-1.5708, -0.785398)    (-1.5708, 0.0)    (-1.5708, 0.785398)    (-1.5708, 1.5708)    (-1.5708, 2.35619)    (-1.5708, 3.14159)\n",
      " (-0.785398, -2.35619)  (-0.785398, -1.5708)  (-0.785398, -0.785398)  (-0.785398, 0.0)  (-0.785398, 0.785398)  (-0.785398, 1.5708)  (-0.785398, 2.35619)  (-0.785398, 3.14159)\n",
      " (0.0, -2.35619)        (0.0, -1.5708)        (0.0, -0.785398)        (0.0, 0.0)        (0.0, 0.785398)        (0.0, 1.5708)        (0.0, 2.35619)        (0.0, 3.14159)\n",
      " (0.785398, -2.35619)   (0.785398, -1.5708)   (0.785398, -0.785398)   (0.785398, 0.0)   (0.785398, 0.785398)   (0.785398, 1.5708)   (0.785398, 2.35619)   (0.785398, 3.14159)\n",
      " (1.5708, -2.35619)     (1.5708, -1.5708)     (1.5708, -0.785398)     (1.5708, 0.0)     (1.5708, 0.785398)     (1.5708, 1.5708)     (1.5708, 2.35619)     (1.5708, 3.14159)\n",
      " (2.35619, -2.35619)    (2.35619, -1.5708)    (2.35619, -0.785398)    (2.35619, 0.0)    (2.35619, 0.785398)    (2.35619, 1.5708)    (2.35619, 2.35619)    (2.35619, 3.14159)\n",
      " (3.14159, -2.35619)    (3.14159, -1.5708)    (3.14159, -0.785398)    (3.14159, 0.0)    (3.14159, 0.785398)    (3.14159, 1.5708)    (3.14159, 2.35619)    (3.14159, 3.14159)\n",
      "k0 = CartesianIndex(4, 4), isnothing = false\n"
     ]
    }
   ],
   "source": [
    "sampling = Dispersions.gen_sampling(Dispersions.cPnn, 2, 8)\n",
    "kGrid_f = map(v -> Dispersions.basis_transform(Dispersions.cP,  v), sampling)\n",
    "show(stdout, \"text/plain\", kGrid_f)\n",
    "\n",
    "k0 = findfirst(k -> all(k .≈ 0), kGrid_f)\n",
    "println(\"\\nk0 = $k0, isnothing = \", isnothing(k0))"
   ]
  },
  {
   "cell_type": "code",
   "execution_count": null,
   "id": "e8e9c97f-8067-4b3f-a96c-6d9173c25c92",
   "metadata": {},
   "outputs": [],
   "source": []
  }
 ],
 "metadata": {
  "kernelspec": {
   "display_name": "Julia 1.9.3",
   "language": "julia",
   "name": "julia-1.9"
  },
  "language_info": {
   "file_extension": ".jl",
   "mimetype": "application/julia",
   "name": "julia",
   "version": "1.9.3"
  }
 },
 "nbformat": 4,
 "nbformat_minor": 5
}
