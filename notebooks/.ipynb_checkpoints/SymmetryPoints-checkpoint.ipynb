{
 "cells": [
  {
   "cell_type": "code",
   "execution_count": 1,
   "id": "83743351-70a7-4779-a0aa-10572d819cc1",
   "metadata": {},
   "outputs": [
    {
     "name": "stderr",
     "output_type": "stream",
     "text": [
      "\u001b[32m\u001b[1m  Activating\u001b[22m\u001b[39m project at `~/Codes/Dispersions.jl`\n",
      "\u001b[36m\u001b[1m[ \u001b[22m\u001b[39m\u001b[36m\u001b[1mInfo: \u001b[22m\u001b[39mPrecompiling Dispersions [9451dd48-6b2a-4bde-a443-9ec270a37806]\n"
     ]
    }
   ],
   "source": [
    "using Pkg\n",
    "Pkg.activate(\"/home/julisn/Codes/Dispersions.jl/\")\n",
    "using Dispersions\n",
    "using LinearAlgebra"
   ]
  },
  {
   "cell_type": "markdown",
   "id": "c252cd84-2f3e-4539-99ab-8800704a3d8f",
   "metadata": {},
   "source": [
    "# Symmetry Points\n",
    "## BCC\n",
    "\n",
    "$ \\Gamma = (0,0,0); \\quad H = (0,0,2\\pi); \\quad P = (\\pi,\\pi,\\pi); \\quad N = (0, \\pi, \\pi)$"
   ]
  },
  {
   "cell_type": "code",
   "execution_count": 99,
   "id": "e35da83d-2e8c-4a19-aac7-1b276e9c4702",
   "metadata": {},
   "outputs": [
    {
     "data": {
      "text/plain": [
       "map_to_indices (generic function with 3 methods)"
      ]
     },
     "execution_count": 99,
     "metadata": {},
     "output_type": "execute_result"
    }
   ],
   "source": [
    "gen_sampling_test(D::Int, Ns::Int) =\n",
    "    Base.product([[(2 * π / Ns) * j - π for j = 1:Ns] for Di = 1:D]...)\n",
    "\n",
    "basis_transform_test(v::Tuple) =\n",
    "    Tuple(transpose([1.0 1.0 0.0; 0.0 1.0 1.0; 1.0 0.0 1.0]) * collect(v))\n",
    "\n",
    "findnearest(p, A::AbstractArray) = findmin(map(vi -> norm(vi .- p),A))\n",
    "\n",
    "\"\"\"\n",
    "    map_to_indices_full(path::AbstractVector, grid::AbstractArray)\n",
    "\n",
    "Finds indices for points along path. \n",
    "Also returns residual values for points, i.e. norm of distance vector between point on path and point in grid.\n",
    "\"\"\"\n",
    "function map_to_indices_full(path::AbstractVector, grid::AbstractArray)\n",
    "    result_points = Array{CartesianIndex,1}(undef, length(path))\n",
    "    residual_vals = Array{Float64,1}(undef, length(path))\n",
    "    for (i,point) in enumerate(path)\n",
    "        residual_vals[i], result_points[i] = findnearest(point, grid)\n",
    "    end\n",
    "    return result_points, residual_vals\n",
    "end\n",
    "\n",
    "\"\"\"\n",
    "    map_to_indices(path::AbstractVector, grid::AbstractArray, kG::KGrid)\n",
    "\n",
    "Finds indices for points along path for reduced k-grid. \n",
    "Also returns residual values for points, i.e. norm of distance vector between point on path and point in grid.\n",
    "\"\"\"\n",
    "function map_to_indices(path::AbstractVector, grid::AbstractArray, kG::KGrid)\n",
    "    result_points, residual_vals = map_to_indices_full(path, grid)\n",
    "    rr = map(pi -> findfirst(ki_l -> pi in ki_l, kG), path)\n",
    "    return rr, residual_vals\n",
    "end"
   ]
  },
  {
   "cell_type": "code",
   "execution_count": 100,
   "id": "b914f701-a1ad-466d-9916-7c1e4703e857",
   "metadata": {},
   "outputs": [],
   "source": [
    "## Symm Points\n",
    "\n",
    "Γ_v = (0,0,0)\n",
    "H_v = (0,0,2π)\n",
    "P_v = (π,π,π)\n",
    "N_v = (0,π,π)\n",
    "Γ_bv = 2π .* (0,0,0)\n",
    "H_bv = 2π .* (-1/2,1/2,1/2)\n",
    "P_bv = 2π .* (1/4,1/4,1/4)\n",
    "N_bv = 2π .* (0,1/2,0)\n",
    "\n",
    "## Symm Lines\n",
    "\n",
    "symm_path_samples = 20\n",
    "Δ = [2π .* (-v, v, v) for v in LinRange(0,0.5,symm_path_samples)]\n",
    "Λ = [2π .* ( v, v, v) for v in LinRange(0,0.25,symm_path_samples)]\n",
    "Σ = [2π .* ( 0, v, 0) for v in LinRange(0,0.5,symm_path_samples)]\n",
    "F = [2π .* (-0.5+3v,0.5-v,0.5-v) for v in LinRange(0,0.25,symm_path_samples)]\n",
    "D = [2π .* ( v,0.5-v, v) for v in LinRange(0,0.25,symm_path_samples)]\n",
    "G = [2π .* (-v,0.5, v) for v in LinRange(0,0.5,symm_path_samples)]\n",
    "\n",
    "Ns = 30\n",
    "kG_bcc = gen_kGrid(\"bcc-1.23\",Ns)\n",
    "symm_points_bcc = [Γ_bv, H_bv, P_bv, N_bv]\n",
    "symm_paths_bcc  = [Δ, Λ, Σ, F, D, G];"
   ]
  },
  {
   "cell_type": "code",
   "execution_count": 101,
   "id": "50c0b7c7-2978-4ace-82ab-e8450762e8c2",
   "metadata": {},
   "outputs": [],
   "source": [
    "kG_bcc.kGrid\n",
    "GT = Dispersions.cI\n",
    "sampling_bcc = gen_sampling_test(3, Ns)\n",
    "kGrid_f = map(v -> basis_transform_test(v), sampling_bcc);\n",
    "symm_points_bcc_test = map(v -> basis_transform_test(v), symm_points_bcc)\n",
    "symm_paths_bcc_test  = map(path -> map(basis_transform_test, path), symm_paths_bcc);"
   ]
  },
  {
   "cell_type": "code",
   "execution_count": 112,
   "id": "194ff793-dc63-47c8-863c-3f225abafaec",
   "metadata": {},
   "outputs": [],
   "source": [
    "symm_points_bcc_indices, symm_points_bcc_resvals =  map_to_indices(symm_points_bcc_test, kGrid_f)\n",
    "symm_paths_bcc_indices, symm_paths_bcc_resvals   =  map(pi -> map_to_indices(pi, kGrid_f), symm_paths_bcc_test);"
   ]
  },
  {
   "cell_type": "code",
   "execution_count": 114,
   "id": "170d31a6-fa8a-4ce8-a1c3-c037cbd49b95",
   "metadata": {},
   "outputs": [
    {
     "data": {
      "text/plain": [
       "20-element Vector{CartesianIndex}:\n",
       " CartesianIndex(15, 15, 15)\n",
       " CartesianIndex(14, 16, 16)\n",
       " CartesianIndex(13, 17, 17)\n",
       " CartesianIndex(13, 17, 17)\n",
       " CartesianIndex(12, 18, 18)\n",
       " CartesianIndex(11, 19, 19)\n",
       " CartesianIndex(10, 20, 20)\n",
       " CartesianIndex(9, 21, 21)\n",
       " CartesianIndex(9, 21, 21)\n",
       " CartesianIndex(8, 22, 22)\n",
       " CartesianIndex(7, 23, 23)\n",
       " CartesianIndex(6, 24, 24)\n",
       " CartesianIndex(6, 24, 24)\n",
       " CartesianIndex(5, 25, 25)\n",
       " CartesianIndex(4, 26, 26)\n",
       " CartesianIndex(3, 27, 27)\n",
       " CartesianIndex(2, 28, 28)\n",
       " CartesianIndex(2, 28, 28)\n",
       " CartesianIndex(1, 29, 29)\n",
       " CartesianIndex(1, 30, 30)"
      ]
     },
     "execution_count": 114,
     "metadata": {},
     "output_type": "execute_result"
    }
   ],
   "source": [
    "symm_paths_bcc_indices[1]"
   ]
  },
  {
   "cell_type": "code",
   "execution_count": 117,
   "id": "b336e067-b13d-405f-a443-16a1fd9d8535",
   "metadata": {},
   "outputs": [
    {
     "data": {
      "text/plain": [
       "20-element Vector{Int64}:\n",
       " 4145\n",
       " 4025\n",
       " 3887\n",
       " 3887\n",
       " 3730\n",
       " 3553\n",
       " 3355\n",
       " 3135\n",
       " 3135\n",
       " 2892\n",
       " 2625\n",
       " 2333\n",
       " 2333\n",
       " 2015\n",
       " 1670\n",
       " 1297\n",
       "  895\n",
       "  895\n",
       "  463\n",
       "  465"
      ]
     },
     "execution_count": 117,
     "metadata": {},
     "output_type": "execute_result"
    }
   ],
   "source": [
    "rr = map(pi -> findfirst(ki_l -> pi in ki_l, kG_bcc.expand_perms), symm_paths_bcc_indices[1])"
   ]
  }
 ],
 "metadata": {
  "kernelspec": {
   "display_name": "Julia 1.9.3",
   "language": "julia",
   "name": "julia-1.9"
  },
  "language_info": {
   "file_extension": ".jl",
   "mimetype": "application/julia",
   "name": "julia",
   "version": "1.9.3"
  }
 },
 "nbformat": 4,
 "nbformat_minor": 5
}
