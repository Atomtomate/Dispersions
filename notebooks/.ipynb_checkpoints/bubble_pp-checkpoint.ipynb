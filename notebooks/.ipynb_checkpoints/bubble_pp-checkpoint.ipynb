{
 "cells": [
  {
   "cell_type": "code",
   "execution_count": 92,
   "id": "cba66c71-747d-4232-9d7c-b2786b5e372c",
   "metadata": {},
   "outputs": [
    {
     "name": "stderr",
     "output_type": "stream",
     "text": [
      "\u001b[32m\u001b[1m  Activating\u001b[22m\u001b[39m project at `~/Codes/Dispersions.jl`\n"
     ]
    },
    {
     "data": {
      "text/plain": [
       "fcc_dispersion (generic function with 1 method)"
      ]
     },
     "execution_count": 92,
     "metadata": {},
     "output_type": "execute_result"
    }
   ],
   "source": [
    "using Pkg\n",
    "Pkg.activate(\"..\")\n",
    "using Dispersions\n",
    "using Test\n",
    "using FFTW\n",
    "include(\"../test/helper_functions.jl\")"
   ]
  },
  {
   "cell_type": "code",
   "execution_count": 93,
   "id": "c883e50c-e72c-4c9c-bc63-2d455eb01aaa",
   "metadata": {},
   "outputs": [
    {
     "ename": "LoadError",
     "evalue": "UndefVarError: `gen_sampling` not defined",
     "output_type": "error",
     "traceback": [
      "UndefVarError: `gen_sampling` not defined",
      "",
      "Stacktrace:",
      " [1] top-level scope",
      "   @ In[93]:3"
     ]
    }
   ],
   "source": [
    "Ns = 6\n",
    "\n",
    "v_full = collect(gen_sampling(Dispersions.cP, 2, Ns))\n",
    "q0 = Tuple(findfirst(x-> all(x .≈ 0), v_full))"
   ]
  },
  {
   "cell_type": "code",
   "execution_count": 90,
   "id": "edacaa41-b39d-43eb-bf68-860790c37107",
   "metadata": {},
   "outputs": [],
   "source": [
    "Ns = 4\n",
    "\n",
    "\n",
    "gr = \"2Dsc-1.1\"\n",
    "\n",
    "kG = gen_kGrid(gr, Ns)\n",
    "\n",
    "v_full = collect(Dispersions.gen_sampling(grid_type(kG), 2, Ns))\n",
    "q0 = Tuple(findfirst(x-> all(x .≈ 0), v_full))\n",
    "\n",
    "arr1 = randn(ComplexF64, gridshape(kG))\n",
    "arr2 = randn(ComplexF64, gridshape(kG))\n",
    "arr1_sym = expandKArr(kG, reduceKArr(kG, arr1))\n",
    "arr2_sym = expandKArr(kG, reduceKArr(kG, arr2))\n",
    "arr1_c = deepcopy(arr1_sym)\n",
    "arr2_c = deepcopy(arr2_sym);"
   ]
  },
  {
   "cell_type": "code",
   "execution_count": 91,
   "id": "12a0700c-3c97-417c-a8c0-9cb78a8fe2cc",
   "metadata": {},
   "outputs": [],
   "source": [
    "res_pp, dbg_i_pp, dbg_val_pp = naive_conv(v_full, v_full, pp=true, q0, round_entries=false);\n",
    "res_ph, dbg_i, dbg_val = naive_conv(v_full, v_full, pp=false, q0, round_entries=false);"
   ]
  },
  {
   "cell_type": "code",
   "execution_count": 53,
   "id": "3accd50a-b3ae-47ed-b717-edfd1437f16c",
   "metadata": {},
   "outputs": [
    {
     "data": {
      "text/plain": [
       "\u001b[32m\u001b[1mTest Passed\u001b[22m\u001b[39m"
      ]
     },
     "execution_count": 53,
     "metadata": {},
     "output_type": "execute_result"
    }
   ],
   "source": [
    "q_list = map(el->check_q(el, Ns), dbg_val);\n",
    "# preprocess rounds all entries in order for unqiue to work\n",
    "q_list_pre = map(x -> map(xi -> round.(xi,digits=8), x), q_list)\n",
    "q_list_pre = map(x -> map(xi -> map(xii -> xii ≈ 0 ? abs(xii) : xii, xi), x), q_list_pre)\n",
    "# Test if all entries have the same common q difference\n",
    "@test all(map(qi_list -> length(unique(qi_list)) == 1, q_list_pre))\n",
    "# Extract only q vector (since we checked that only one unique exists\n",
    "q_list_single = map(x->x[1], q_list_pre)\n",
    "# Test if all q-vectors are at the correct index\n",
    "@test all(map(x-> all(x[1] .≈ x[2]), zip(q_list_single, v_full)))\n",
    "# Test if all possible q-vectors are contained in convolution\n",
    "@test all(map(el -> all(el[1] .≈ el[2]), zip(sort(unique(v_full)[:]), sort(map(qi->qi[1], q_list_pre)[:]))))\n",
    "# Test if all combinations of k_i and k_{i+j} are contained in each result index\n",
    "@test all(map(entry -> length(unique(map(x->x[1], entry))), dbg_val) .== Ns*Ns)\n",
    "@test all(map(entry -> length(unique(map(x->x[2], entry))), dbg_val) .== Ns*Ns)"
   ]
  },
  {
   "cell_type": "code",
   "execution_count": 54,
   "id": "645ffc61-eb8c-4571-8215-cc39f6737fbf",
   "metadata": {},
   "outputs": [
    {
     "data": {
      "text/plain": [
       "\u001b[32m\u001b[1mTest Passed\u001b[22m\u001b[39m"
      ]
     },
     "execution_count": 54,
     "metadata": {},
     "output_type": "execute_result"
    }
   ],
   "source": [
    "q_list_pp = map(el->check_q(el, Ns, pp=true), dbg_val_pp);\n",
    "# preprocess rounds all entries in order for unqiue to work\n",
    "q_list_pp_pre = map(x -> map(xi -> round.(xi,digits=8), x), q_list_pp)\n",
    "q_list_pp_pre = map(x -> map(xi -> map(xii -> xii ≈ 0 ? abs(xii) : xii, xi), x), q_list_pp_pre)\n",
    "# Test if all entries have the same common q difference\n",
    "@test all(map(qi_list -> length(unique(qi_list)) == 1, q_list_pp_pre))\n",
    "# extract only q vector (since we checked that only one unique exists\n",
    "q_list_pp_single = map(x->x[1], q_list_pp_pre)\n",
    "# test if all q-vectors are at the correct index\n",
    "@test all(map(x-> all(x[1] .≈ x[2]), zip(q_list_pp_single, v_full)))\n",
    "# Test if all possible q-vectors are contained in convolution\n",
    "@test all(map(el -> all(el[1] .≈ el[2]), zip(sort(unique(v_full)[:]), sort(map(qi->qi[1], q_list_pp_pre)[:]))))\n",
    "# Test if all combinations of k_i and k_{i+j} are contained in each result index\n",
    "@test all(map(entry -> length(unique(map(x->x[1], entry))), dbg_val_pp) .== Ns*Ns)\n",
    "@test all(map(entry -> length(unique(map(x->x[2], entry))), dbg_val_pp) .== Ns*Ns)"
   ]
  },
  {
   "cell_type": "code",
   "execution_count": 55,
   "id": "b0ed33cc-b13f-41fc-8a00-fecc17bdfd29",
   "metadata": {
    "scrolled": true
   },
   "outputs": [
    {
     "name": "stdout",
     "output_type": "stream",
     "text": [
      "4×4 Matrix{ComplexF64}:\n",
      " -0.215472-0.0162978im   0.0966454+0.118015im   -0.215472-0.0162978im   0.0870073+0.0340096im\n",
      " 0.0966454+0.118015im    -0.280325+0.16998im    0.0966454+0.118015im   -0.0728583-0.0832883im\n",
      " -0.215472-0.0162978im   0.0966454+0.118015im   -0.215472-0.0162978im   0.0870073+0.0340096im\n",
      " 0.0870073+0.0340096im  -0.0728583-0.0832883im  0.0870073+0.0340096im   -0.138644+0.023066im\n",
      "===============================\n",
      "4×4 Matrix{ComplexF64}:\n",
      " -0.215472-0.0162978im   0.0870073+0.0340096im  -0.215472-0.0162978im   0.0966454+0.118015im\n",
      " 0.0870073+0.0340096im   -0.138644+0.023066im   0.0870073+0.0340096im  -0.0728583-0.0832883im\n",
      " -0.215472-0.0162978im   0.0870073+0.0340096im  -0.215472-0.0162978im   0.0966454+0.118015im\n",
      " 0.0966454+0.118015im   -0.0728583-0.0832883im  0.0966454+0.118015im    -0.280325+0.16998im\n",
      "===============================\n",
      "4×4 Matrix{ComplexF64}:\n",
      " -0.215472-0.0162978im   0.0966454+0.118015im   -0.215472-0.0162978im   0.0870073+0.0340096im\n",
      " 0.0966454+0.118015im    -0.280325+0.16998im    0.0966454+0.118015im   -0.0728583-0.0832883im\n",
      " -0.215472-0.0162978im   0.0966454+0.118015im   -0.215472-0.0162978im   0.0870073+0.0340096im\n",
      " 0.0870073+0.0340096im  -0.0728583-0.0832883im  0.0870073+0.0340096im   -0.138644+0.023066im\n",
      "===============================\n",
      "4×4 Matrix{ComplexF64}:\n",
      " -0.215472-0.0162978im   0.0966454+0.118015im   -0.215472-0.0162978im   0.0870073+0.0340096im\n",
      " 0.0966454+0.118015im    -0.280325+0.16998im    0.0966454+0.118015im   -0.0728583-0.0832883im\n",
      " -0.215472-0.0162978im   0.0966454+0.118015im   -0.215472-0.0162978im   0.0870073+0.0340096im\n",
      " 0.0870073+0.0340096im  -0.0728583-0.0832883im  0.0870073+0.0340096im   -0.138644+0.023066im"
     ]
    },
    {
     "data": {
      "text/plain": [
       "\u001b[32m\u001b[1mTest Passed\u001b[22m\u001b[39m"
      ]
     },
     "execution_count": 55,
     "metadata": {},
     "output_type": "execute_result"
    }
   ],
   "source": [
    "conv_ph_naive,_,_ = naive_conv(arr1_sym, arr2_sym, q0, pp=false);\n",
    "conv_test = Dispersions.conv(kG, reduceKArr(kG,arr1_sym), reduceKArr(kG,arr2_sym), crosscorrelation=true)\n",
    "conv_ph_fft_test = circshift(reverse(ifft(fft(arr1_sym) .* fft(reverse(arr2_sym)))), q0 .- 1)\n",
    "\n",
    "show(stdout, \"text/plain\", expandKArr(kG, conv_test))\n",
    "println(\"\\n===============================\")\n",
    "show(stdout, \"text/plain\", kG.cache1 ./ kG.Nk)\n",
    "println(\"\\n===============================\")\n",
    "show(stdout, \"text/plain\", conv_ph_naive ./ kG.Nk)\n",
    "println(\"\\n===============================\")\n",
    "show(stdout, \"text/plain\", conv_ph_fft_test ./ kG.Nk)\n",
    "\n",
    "@test all(conv_ph_fft_test .≈ conv_ph_naive)\n",
    "@test all(conv_ph_fft_test .≈ expandKArr(kG, conv_test) .* kG.Nk)"
   ]
  },
  {
   "cell_type": "code",
   "execution_count": 56,
   "id": "26499511-f7e5-43a9-890d-6c099734b454",
   "metadata": {},
   "outputs": [
    {
     "name": "stdout",
     "output_type": "stream",
     "text": [
      "4×4 Matrix{ComplexF64}:\n",
      " -0.215472-0.0162978im   0.0966454+0.118015im   -0.215472-0.0162978im   0.0870073+0.0340096im\n",
      " 0.0966454+0.118015im    -0.280325+0.16998im    0.0966454+0.118015im   -0.0728583-0.0832883im\n",
      " -0.215472-0.0162978im   0.0966454+0.118015im   -0.215472-0.0162978im   0.0870073+0.0340096im\n",
      " 0.0870073+0.0340096im  -0.0728583-0.0832883im  0.0870073+0.0340096im   -0.138644+0.023066im\n",
      "===============================\n",
      "4×4 Matrix{ComplexF64}:\n",
      "  -0.280325+0.16998im    0.0966454+0.118015im   -0.0728583-0.0832883im  0.0966454+0.118015im\n",
      "  0.0966454+0.118015im   -0.215472-0.0162978im   0.0870073+0.0340096im  -0.215472-0.0162978im\n",
      " -0.0728583-0.0832883im  0.0870073+0.0340096im   -0.138644+0.023066im   0.0870073+0.0340096im\n",
      "  0.0966454+0.118015im   -0.215472-0.0162978im   0.0870073+0.0340096im  -0.215472-0.0162978im\u001b[91m\u001b[1mTest Failed\u001b[22m\u001b[39m at \u001b[39m\u001b[1mIn[56]:13\u001b[22m\n",
      "  Expression: all(conv_pp_fft_test .≈ conv_pp_naive)\n",
      "\n"
     ]
    },
    {
     "ename": "LoadError",
     "evalue": "\u001b[91mThere was an error during testing\u001b[39m",
     "output_type": "error",
     "traceback": [
      "\u001b[91mThere was an error during testing\u001b[39m",
      "",
      "Stacktrace:",
      " [1] record(ts::Test.FallbackTestSet, t::Union{Test.Error, Test.Fail})",
      "   @ Test ~/julia/share/julia/stdlib/v1.9/Test/src/Test.jl:960",
      " [2] do_test(result::Test.ExecutionResult, orig_expr::Any)",
      "   @ Test ~/julia/share/julia/stdlib/v1.9/Test/src/Test.jl:670",
      " [3] top-level scope",
      "   @ ~/julia/share/julia/stdlib/v1.9/Test/src/Test.jl:478"
     ]
    }
   ],
   "source": [
    "conv_pp_naive,_,_ = naive_conv(arr1_sym, arr2_sym, q0, pp=true);\n",
    "conv_pp_test = Dispersions.conv(kG, reduceKArr(kG,arr1_sym), reduceKArr(kG, arr2_sym), crosscorrelation=false)\n",
    "conv_pp_fft_test = circshift(ifft(fft(arr1_sym) .* fft(arr2_sym)), -0 .* q0 .+ 2)\n",
    "\n",
    "#show(stdout, \"text/plain\", expandKArr(kG, conv_pp_test))\n",
    "#println(\"\\n===============================\")\n",
    "#show(stdout, \"text/plain\", kG.cache1 ./ kG.Nk)\n",
    "#println(\"\\n===============================\")\n",
    "show(stdout, \"text/plain\", conv_pp_naive  ./ kG.Nk )\n",
    "println(\"\\n===============================\")\n",
    "show(stdout, \"text/plain\", conv_pp_fft_test ./ kG.Nk)\n",
    "\n",
    "@test all(conv_pp_fft_test .≈ conv_pp_naive)\n",
    "@test all(conv_pp_fft_test ./ kG.Nk .≈ expandKArr(kG, conv_pp_test))"
   ]
  },
  {
   "cell_type": "code",
   "execution_count": 57,
   "id": "2a6737bf-33b4-45ce-a055-d7d879f4773a",
   "metadata": {},
   "outputs": [
    {
     "data": {
      "text/plain": [
       "\u001b[32m\u001b[1mTest Passed\u001b[22m\u001b[39m"
      ]
     },
     "execution_count": 57,
     "metadata": {},
     "output_type": "execute_result"
    }
   ],
   "source": [
    "@test all(arr1_c .== arr1_sym)\n",
    "@test all(arr2_c .== arr2_sym)"
   ]
  },
  {
   "cell_type": "markdown",
   "id": "112660d0-79d3-42b4-86f2-98f323cd1702",
   "metadata": {},
   "source": [
    "# k-k'"
   ]
  },
  {
   "cell_type": "code",
   "execution_count": 73,
   "id": "565ad168-38bb-4b63-b4e9-c0b3740ae019",
   "metadata": {},
   "outputs": [
    {
     "data": {
      "text/plain": [
       "4×4 Matrix{Tuple{Float64, Float64}}:\n",
       " (-1.5708, -1.5708)  (-1.5708, 0.0)  (-1.5708, 1.5708)  (-1.5708, 3.14159)\n",
       " (0.0, -1.5708)      (0.0, 0.0)      (0.0, 1.5708)      (0.0, 3.14159)\n",
       " (1.5708, -1.5708)   (1.5708, 0.0)   (1.5708, 1.5708)   (1.5708, 3.14159)\n",
       " (3.14159, -1.5708)  (3.14159, 0.0)  (3.14159, 1.5708)  (3.14159, 3.14159)"
      ]
     },
     "execution_count": 73,
     "metadata": {},
     "output_type": "execute_result"
    }
   ],
   "source": [
    "v_full"
   ]
  },
  {
   "cell_type": "code",
   "execution_count": 88,
   "id": "b841ece3-d75c-4ca5-9991-0028bd9c5919",
   "metadata": {},
   "outputs": [
    {
     "name": "stdout",
     "output_type": "stream",
     "text": [
      "4×4 Matrix{Tuple{Float64, Float64}}:\n",
      " (1.5708, 1.5708)    (1.5708, -0.0)    (1.5708, -1.5708)    (1.5708, -3.14159)\n",
      " (-0.0, 1.5708)      (-0.0, -0.0)      (-0.0, -1.5708)      (-0.0, -3.14159)\n",
      " (-1.5708, 1.5708)   (-1.5708, -0.0)   (-1.5708, -1.5708)   (-1.5708, -3.14159)\n",
      " (-3.14159, 1.5708)  (-3.14159, -0.0)  (-3.14159, -1.5708)  (-3.14159, -3.14159)"
     ]
    }
   ],
   "source": [
    "minus_v_full = map(x-> -1 .* x, v_full)\n",
    "show(stdout, \"text/plain\", minus_v_full)"
   ]
  },
  {
   "cell_type": "code",
   "execution_count": 87,
   "id": "f04e10da-7fe0-4bc9-9204-26966c45f452",
   "metadata": {},
   "outputs": [
    {
     "data": {
      "text/plain": [
       "4×4 Matrix{Tuple{Float64, Float64}}:\n",
       " (1.5708, 1.5708)   (1.5708, 0.0)   (1.5708, -1.5708)   (1.5708, 3.14159)\n",
       " (0.0, 1.5708)      (0.0, 0.0)      (0.0, -1.5708)      (0.0, 3.14159)\n",
       " (-1.5708, 1.5708)  (-1.5708, 0.0)  (-1.5708, -1.5708)  (-1.5708, 3.14159)\n",
       " (3.14159, 1.5708)  (3.14159, 0.0)  (3.14159, -1.5708)  (3.14159, 3.14159)"
      ]
     },
     "execution_count": 87,
     "metadata": {},
     "output_type": "execute_result"
    }
   ],
   "source": [
    "minus_v_full2 = circshift(reverse(v_full), -1 .* kG.k0 .+ 1)"
   ]
  },
  {
   "cell_type": "code",
   "execution_count": 85,
   "id": "31eb1178-85cb-4fa4-b76c-a9f1e7f269fe",
   "metadata": {},
   "outputs": [
    {
     "data": {
      "text/plain": [
       "4×4 Matrix{Tuple{Bool, Bool}}:\n",
       " (1, 1)  (1, 1)  (1, 1)  (1, 0)\n",
       " (1, 1)  (1, 1)  (1, 1)  (1, 0)\n",
       " (1, 1)  (1, 1)  (1, 1)  (1, 0)\n",
       " (0, 1)  (0, 1)  (0, 1)  (0, 0)"
      ]
     },
     "execution_count": 85,
     "metadata": {},
     "output_type": "execute_result"
    }
   ],
   "source": [
    "map(x-> x[1] .≈ x[2], zip(minus_v_full, minus_v_full2))"
   ]
  },
  {
   "cell_type": "code",
   "execution_count": 58,
   "id": "8091c66c-a350-4516-8fb7-8c9bad7bbd1c",
   "metadata": {},
   "outputs": [
    {
     "data": {
      "text/plain": [
       "find_kGrid_slice (generic function with 1 method)"
      ]
     },
     "execution_count": 58,
     "metadata": {},
     "output_type": "execute_result"
    }
   ],
   "source": [
    "\n",
    "function build_k_minus_kp(arr)\n",
    "    res = Array{eltype(arr),2}(undef, length(arr), length(arr))\n",
    "    for (i,el_i) in enumerate(arr[:])\n",
    "        for (j,el_j) in enumerate(arr[:])\n",
    "            res[i,j] = el_i .- el_j\n",
    "        end\n",
    "    end\n",
    "    res\n",
    "end\n",
    "\n",
    "function find_kGrid_slice(arr, kG_indices)\n",
    "    res = falses(size(arr)...)\n",
    "    for i in eachindex(arr)\n",
    "        if arr[i] in kG_indices\n",
    "            res[i] = true\n",
    "        else\n",
    "            false\n",
    "        end\n",
    "    end\n",
    "    return res\n",
    "end"
   ]
  },
  {
   "cell_type": "code",
   "execution_count": 59,
   "id": "1ba923af-d479-4a21-90d1-1b05d97e3800",
   "metadata": {},
   "outputs": [
    {
     "data": {
      "text/plain": [
       "16×16 Matrix{Tuple{Float64, Float64}}:\n",
       " (0.0, 0.0)          (-1.5708, 0.0)      …  (-4.71239, -4.71239)\n",
       " (1.5708, 0.0)       (0.0, 0.0)             (-3.14159, -4.71239)\n",
       " (3.14159, 0.0)      (1.5708, 0.0)          (-1.5708, -4.71239)\n",
       " (4.71239, 0.0)      (3.14159, 0.0)         (0.0, -4.71239)\n",
       " (0.0, 1.5708)       (-1.5708, 1.5708)      (-4.71239, -3.14159)\n",
       " (1.5708, 1.5708)    (0.0, 1.5708)       …  (-3.14159, -3.14159)\n",
       " (3.14159, 1.5708)   (1.5708, 1.5708)       (-1.5708, -3.14159)\n",
       " (4.71239, 1.5708)   (3.14159, 1.5708)      (0.0, -3.14159)\n",
       " (0.0, 3.14159)      (-1.5708, 3.14159)     (-4.71239, -1.5708)\n",
       " (1.5708, 3.14159)   (0.0, 3.14159)         (-3.14159, -1.5708)\n",
       " (3.14159, 3.14159)  (1.5708, 3.14159)   …  (-1.5708, -1.5708)\n",
       " (4.71239, 3.14159)  (3.14159, 3.14159)     (0.0, -1.5708)\n",
       " (0.0, 4.71239)      (-1.5708, 4.71239)     (-4.71239, 0.0)\n",
       " (1.5708, 4.71239)   (0.0, 4.71239)         (-3.14159, 0.0)\n",
       " (3.14159, 4.71239)  (1.5708, 4.71239)      (-1.5708, 0.0)\n",
       " (4.71239, 4.71239)  (3.14159, 4.71239)  …  (0.0, 0.0)"
      ]
     },
     "execution_count": 59,
     "metadata": {},
     "output_type": "execute_result"
    }
   ],
   "source": [
    "res_test = build_k_minus_kp(v_full)\n",
    "slice_test = find_kGrid_slice(res_test, v_full)\n",
    "res_test"
   ]
  },
  {
   "cell_type": "code",
   "execution_count": 60,
   "id": "db78c145-7337-4d62-bd84-b1f4f58b4853",
   "metadata": {},
   "outputs": [
    {
     "data": {
      "text/plain": [
       "144"
      ]
     },
     "execution_count": 60,
     "metadata": {},
     "output_type": "execute_result"
    }
   ],
   "source": [
    "count(slice_test)"
   ]
  },
  {
   "cell_type": "code",
   "execution_count": 64,
   "id": "57c646ad-3544-4146-a139-c21fc66f5755",
   "metadata": {},
   "outputs": [
    {
     "data": {
      "text/plain": [
       "4×4 Matrix{Tuple{Float64, Float64}}:\n",
       " (-1.5708, -1.5708)  (0.0, 1.5708)   (1.5708, 3.14159)  (-1.5708, 3.14159)\n",
       " (0.0, -1.5708)      (0.0, 0.0)      (1.5708, 1.5708)   (3.14159, 3.14159)\n",
       " (1.5708, -1.5708)   (1.5708, 0.0)   (3.14159, 1.5708)  (-1.5708, 0.0)\n",
       " (3.14159, -1.5708)  (3.14159, 0.0)  (0.0, 3.14159)     (-1.5708, 1.5708)"
      ]
     },
     "execution_count": 64,
     "metadata": {},
     "output_type": "execute_result"
    }
   ],
   "source": [
    "circshift(reshape(unique(res_test[slice_test]), 4,4), (1,1))"
   ]
  },
  {
   "cell_type": "code",
   "execution_count": 63,
   "id": "f92df009-6c77-4aac-a97d-5692702c0f0d",
   "metadata": {},
   "outputs": [
    {
     "data": {
      "text/plain": [
       "4×4 Matrix{Tuple{Float64, Float64}}:\n",
       " (-1.5708, -1.5708)  (-1.5708, 0.0)  (-1.5708, 1.5708)  (-1.5708, 3.14159)\n",
       " (0.0, -1.5708)      (0.0, 0.0)      (0.0, 1.5708)      (0.0, 3.14159)\n",
       " (1.5708, -1.5708)   (1.5708, 0.0)   (1.5708, 1.5708)   (1.5708, 3.14159)\n",
       " (3.14159, -1.5708)  (3.14159, 0.0)  (3.14159, 1.5708)  (3.14159, 3.14159)"
      ]
     },
     "execution_count": 63,
     "metadata": {},
     "output_type": "execute_result"
    }
   ],
   "source": [
    "v_full"
   ]
  },
  {
   "cell_type": "code",
   "execution_count": 38,
   "id": "d9a49700-fe48-4c96-a1de-15e3c6b1b9f1",
   "metadata": {},
   "outputs": [
    {
     "data": {
      "text/plain": [
       "343-element Vector{Tuple{Float64, Float64, Float64}}:\n",
       " (0.0, 0.0, 0.0)\n",
       " (1.5707963267948966, 0.0, 0.0)\n",
       " (3.141592653589793, 0.0, 0.0)\n",
       " (4.71238898038469, 0.0, 0.0)\n",
       " (0.0, 1.5707963267948966, 0.0)\n",
       " (1.5707963267948966, 1.5707963267948966, 0.0)\n",
       " (3.141592653589793, 1.5707963267948966, 0.0)\n",
       " (4.71238898038469, 1.5707963267948966, 0.0)\n",
       " (0.0, 3.141592653589793, 0.0)\n",
       " (1.5707963267948966, 3.141592653589793, 0.0)\n",
       " (3.141592653589793, 3.141592653589793, 0.0)\n",
       " (4.71238898038469, 3.141592653589793, 0.0)\n",
       " (0.0, 4.71238898038469, 0.0)\n",
       " ⋮\n",
       " (3.141592653589793, -3.141592653589793, -4.71238898038469)\n",
       " (4.71238898038469, -3.141592653589793, -4.71238898038469)\n",
       " (-1.5707963267948966, -3.141592653589793, -4.71238898038469)\n",
       " (-3.141592653589793, -3.141592653589793, -4.71238898038469)\n",
       " (-4.71238898038469, -3.141592653589793, -4.71238898038469)\n",
       " (0.0, -4.71238898038469, -4.71238898038469)\n",
       " (1.5707963267948966, -4.71238898038469, -4.71238898038469)\n",
       " (3.141592653589793, -4.71238898038469, -4.71238898038469)\n",
       " (4.71238898038469, -4.71238898038469, -4.71238898038469)\n",
       " (-1.5707963267948966, -4.71238898038469, -4.71238898038469)\n",
       " (-3.141592653589793, -4.71238898038469, -4.71238898038469)\n",
       " (-4.71238898038469, -4.71238898038469, -4.71238898038469)"
      ]
     },
     "execution_count": 38,
     "metadata": {},
     "output_type": "execute_result"
    }
   ],
   "source": [
    "unique(res_test)"
   ]
  },
  {
   "cell_type": "code",
   "execution_count": 22,
   "id": "15681f7e-ee90-4675-8bcb-58f4a18f9e23",
   "metadata": {},
   "outputs": [
    {
     "data": {
      "text/plain": [
       "64-element Vector{Tuple{Float64, Float64, Float64}}:\n",
       " (0.0, 0.0, 0.0)\n",
       " (1.5707963267948966, 0.0, 0.0)\n",
       " (3.141592653589793, 0.0, 0.0)\n",
       " (4.71238898038469, 0.0, 0.0)\n",
       " (0.0, 1.5707963267948966, 0.0)\n",
       " (1.5707963267948966, 1.5707963267948966, 0.0)\n",
       " (3.141592653589793, 1.5707963267948966, 0.0)\n",
       " (4.71238898038469, 1.5707963267948966, 0.0)\n",
       " (0.0, 3.141592653589793, 0.0)\n",
       " (1.5707963267948966, 3.141592653589793, 0.0)\n",
       " (3.141592653589793, 3.141592653589793, 0.0)\n",
       " (4.71238898038469, 3.141592653589793, 0.0)\n",
       " (0.0, 4.71238898038469, 0.0)\n",
       " ⋮\n",
       " (0.0, 1.5707963267948966, 4.71238898038469)\n",
       " (1.5707963267948966, 1.5707963267948966, 4.71238898038469)\n",
       " (3.141592653589793, 1.5707963267948966, 4.71238898038469)\n",
       " (4.71238898038469, 1.5707963267948966, 4.71238898038469)\n",
       " (0.0, 3.141592653589793, 4.71238898038469)\n",
       " (1.5707963267948966, 3.141592653589793, 4.71238898038469)\n",
       " (3.141592653589793, 3.141592653589793, 4.71238898038469)\n",
       " (4.71238898038469, 3.141592653589793, 4.71238898038469)\n",
       " (0.0, 4.71238898038469, 4.71238898038469)\n",
       " (1.5707963267948966, 4.71238898038469, 4.71238898038469)\n",
       " (3.141592653589793, 4.71238898038469, 4.71238898038469)\n",
       " (4.71238898038469, 4.71238898038469, 4.71238898038469)"
      ]
     },
     "execution_count": 22,
     "metadata": {},
     "output_type": "execute_result"
    }
   ],
   "source": [
    "unique(v_full)"
   ]
  },
  {
   "cell_type": "code",
   "execution_count": null,
   "id": "30631fbf-44eb-48e3-90e7-0dc710a1e03b",
   "metadata": {},
   "outputs": [],
   "source": []
  }
 ],
 "metadata": {
  "kernelspec": {
   "display_name": "Julia 1.9.3",
   "language": "julia",
   "name": "julia-1.9"
  },
  "language_info": {
   "file_extension": ".jl",
   "mimetype": "application/julia",
   "name": "julia",
   "version": "1.9.3"
  }
 },
 "nbformat": 4,
 "nbformat_minor": 5
}
