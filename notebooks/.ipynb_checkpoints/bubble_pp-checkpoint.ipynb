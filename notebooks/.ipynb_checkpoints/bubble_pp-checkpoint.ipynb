{
 "cells": [
  {
   "cell_type": "code",
   "execution_count": 92,
   "id": "cba66c71-747d-4232-9d7c-b2786b5e372c",
   "metadata": {},
   "outputs": [
    {
     "name": "stderr",
     "output_type": "stream",
     "text": [
      "\u001b[32m\u001b[1m  Activating\u001b[22m\u001b[39m project at `~/Codes/Dispersions.jl`\n"
     ]
    },
    {
     "data": {
      "text/plain": [
       "fcc_dispersion (generic function with 1 method)"
      ]
     },
     "execution_count": 92,
     "metadata": {},
     "output_type": "execute_result"
    }
   ],
   "source": [
    "using Pkg\n",
    "Pkg.activate(\"..\")\n",
    "using Dispersions\n",
    "using Test\n",
    "using FFTW\n",
    "include(\"../test/helper_functions.jl\")"
   ]
  },
  {
   "cell_type": "code",
   "execution_count": 93,
   "id": "c883e50c-e72c-4c9c-bc63-2d455eb01aaa",
   "metadata": {},
   "outputs": [
    {
     "data": {
      "text/plain": [
       "(2, 2)"
      ]
     },
     "execution_count": 93,
     "metadata": {},
     "output_type": "execute_result"
    }
   ],
   "source": [
    "Nk = 4\n",
    "gen_sampling(::Type{cP}, D::Int, Ns::Int) =                       \n",
    "           Base.product([[(2 * π / Ns) * j - π for j = 1:Ns] for Di = 1:D]...)\n",
    "\n",
    "v_full = collect(gen_sampling(Dispersions.cP, 2, Nk))\n",
    "q0 = Tuple(findfirst(x-> all(x .≈ 0), v_full))"
   ]
  },
  {
   "cell_type": "code",
   "execution_count": 94,
   "id": "12a0700c-3c97-417c-a8c0-9cb78a8fe2cc",
   "metadata": {},
   "outputs": [],
   "source": [
    "res_pp, dbg_i_pp, dbg_val_pp = naive_conv(v_full, v_full, pp=true, q0, round_entries=false);\n",
    "res_ph, dbg_i, dbg_val = naive_conv(v_full, v_full, pp=false, q0, round_entries=false);"
   ]
  },
  {
   "cell_type": "code",
   "execution_count": 95,
   "id": "673fd0c6-440d-45b3-8def-54e1b02ebdc0",
   "metadata": {},
   "outputs": [
    {
     "data": {
      "text/plain": [
       "16-element Vector{Tuple}:\n",
       " ((1, 1), (4, 4))\n",
       " ((2, 1), (1, 4))\n",
       " ((3, 1), (2, 4))\n",
       " ((4, 1), (3, 4))\n",
       " ((1, 2), (4, 1))\n",
       " ((2, 2), (1, 1))\n",
       " ((3, 2), (2, 1))\n",
       " ((4, 2), (3, 1))\n",
       " ((1, 3), (4, 2))\n",
       " ((2, 3), (1, 2))\n",
       " ((3, 3), (2, 2))\n",
       " ((4, 3), (3, 2))\n",
       " ((1, 4), (4, 3))\n",
       " ((2, 4), (1, 3))\n",
       " ((3, 4), (2, 3))\n",
       " ((4, 4), (3, 3))"
      ]
     },
     "execution_count": 95,
     "metadata": {},
     "output_type": "execute_result"
    }
   ],
   "source": [
    "dbg_i[1,1]"
   ]
  },
  {
   "cell_type": "code",
   "execution_count": 96,
   "id": "3accd50a-b3ae-47ed-b717-edfd1437f16c",
   "metadata": {},
   "outputs": [
    {
     "data": {
      "text/plain": [
       "\u001b[32m\u001b[1mTest Passed\u001b[22m\u001b[39m"
      ]
     },
     "execution_count": 96,
     "metadata": {},
     "output_type": "execute_result"
    }
   ],
   "source": [
    "q_list = map(el->check_q(el, Nk), dbg_val);\n",
    "# preprocess rounds all entries in order for unqiue to work\n",
    "q_list_pre = map(x -> map(xi -> round.(xi,digits=8), x), q_list)\n",
    "q_list_pre = map(x -> map(xi -> map(xii -> xii ≈ 0 ? abs(xii) : xii, xi), x), q_list_pre)\n",
    "# Test if all entries have the same common q difference\n",
    "@test all(map(qi_list -> length(unique(qi_list)) == 1, q_list_pre))\n",
    "# Extract only q vector (since we checked that only one unique exists\n",
    "q_list_single = map(x->x[1], q_list_pre)\n",
    "# Test if all q-vectors are at the correct index\n",
    "@test all(map(x-> all(x[1] .≈ x[2]), zip(q_list_single, v_full)))\n",
    "# Test if all possible q-vectors are contained in convolution\n",
    "@test all(map(el -> all(el[1] .≈ el[2]), zip(sort(unique(v_full)[:]), sort(map(qi->qi[1], q_list_pre)[:]))))\n",
    "# Test if all combinations of k_i and k_{i+j} are contained in each result index\n",
    "@test all(map(entry -> length(unique(map(x->x[1], entry))), dbg_val) .== Nk*Nk)\n",
    "@test all(map(entry -> length(unique(map(x->x[2], entry))), dbg_val) .== Nk*Nk)"
   ]
  },
  {
   "cell_type": "code",
   "execution_count": 97,
   "id": "645ffc61-eb8c-4571-8215-cc39f6737fbf",
   "metadata": {},
   "outputs": [
    {
     "name": "stdout",
     "output_type": "stream",
     "text": [
      "\u001b[91m\u001b[1mTest Failed\u001b[22m\u001b[39m at \u001b[39m\u001b[1mIn[97]:10\u001b[22m\n",
      "  Expression: all(map((x->begin\n",
      "                all(x[1] .≈ x[2])\n",
      "            end), zip(q_list_pp_single, v_full)))\n",
      "\n"
     ]
    },
    {
     "ename": "LoadError",
     "evalue": "\u001b[91mThere was an error during testing\u001b[39m",
     "output_type": "error",
     "traceback": [
      "\u001b[91mThere was an error during testing\u001b[39m",
      "",
      "Stacktrace:",
      " [1] record(ts::Test.FallbackTestSet, t::Union{Test.Error, Test.Fail})",
      "   @ Test ~/julia/share/julia/stdlib/v1.9/Test/src/Test.jl:960",
      " [2] do_test(result::Test.ExecutionResult, orig_expr::Any)",
      "   @ Test ~/julia/share/julia/stdlib/v1.9/Test/src/Test.jl:670",
      " [3] top-level scope",
      "   @ ~/julia/share/julia/stdlib/v1.9/Test/src/Test.jl:478"
     ]
    }
   ],
   "source": [
    "q_list_pp = map(el->check_q(el, Nk, pp=true), dbg_val_pp);\n",
    "# preprocess rounds all entries in order for unqiue to work\n",
    "q_list_pp_pre = map(x -> map(xi -> round.(xi,digits=8), x), q_list_pp)\n",
    "q_list_pp_pre = map(x -> map(xi -> map(xii -> xii ≈ 0 ? abs(xii) : xii, xi), x), q_list_pp_pre)\n",
    "# Test if all entries have the same common q difference\n",
    "@test all(map(qi_list -> length(unique(qi_list)) == 1, q_list_pp_pre))\n",
    "# extract only q vector (since we checked that only one unique exists\n",
    "q_list_pp_single = map(x->x[1], q_list_pp_pre)\n",
    "# test if all q-vectors are at the correct index\n",
    "@test all(map(x-> all(x[1] .≈ x[2]), zip(q_list_pp_single, v_full)))\n",
    "# Test if all possible q-vectors are contained in convolution\n",
    "@test all(map(el -> all(el[1] .≈ el[2]), zip(sort(unique(v_full)[:]), sort(map(qi->qi[1], q_list_pp_pre)[:]))))\n",
    "# Test if all combinations of k_i and k_{i+j} are contained in each result index\n",
    "@test all(map(entry -> length(unique(map(x->x[1], entry))), dbg_val_pp) .== Nk*Nk)\n",
    "@test all(map(entry -> length(unique(map(x->x[2], entry))), dbg_val_pp) .== Nk*Nk)"
   ]
  },
  {
   "cell_type": "code",
   "execution_count": 98,
   "id": "b865f084-14b3-4f15-8a3a-c28c42d22e6d",
   "metadata": {},
   "outputs": [
    {
     "name": "stdout",
     "output_type": "stream",
     "text": [
      "(1.57079633, 1.57079633) --- (1.57079633, 1.57079633)\n",
      "(1.57079633, 1.57079633) --- (1.57079633, 1.57079633)\n",
      "(1.57079633, 1.57079633) --- (1.57079633, 1.57079633)\n",
      "(1.57079633, 1.57079633) --- (1.57079633, 1.57079633)\n",
      "(1.57079633, 1.57079633) --- (1.57079633, 1.57079633)\n",
      "(1.57079633, 1.57079633) --- (1.57079633, 1.57079633)\n",
      "(1.57079633, 1.57079633) --- (1.57079633, 1.57079633)\n",
      "(1.57079633, 1.57079633) --- (1.57079633, 1.57079633)\n",
      "(1.57079633, 1.57079633) --- (1.57079633, 1.57079633)\n",
      "(1.57079633, 1.57079633) --- (1.57079633, 1.57079633)\n",
      "(1.57079633, 1.57079633) --- (1.57079633, 1.57079633)\n",
      "(1.57079633, 1.57079633) --- (1.57079633, 1.57079633)\n",
      "(1.57079633, 1.57079633) --- (1.57079633, 1.57079633)\n",
      "(1.57079633, 1.57079633) --- (1.57079633, 1.57079633)\n",
      "(1.57079633, 1.57079633) --- (1.57079633, 1.57079633)\n",
      "(1.57079633, 1.57079633) --- (1.57079633, 1.57079633)\n"
     ]
    }
   ],
   "source": [
    "q_list_pp2 = map(el->check_q(el, Nk, pp=true, transform_back=false), dbg_val_pp);\n",
    "\n",
    "q_list_pp_pre2 = map(x -> map(xi -> round.(xi,digits=8), x), q_list_pp2)\n",
    "q_list_pp_pre2 = map(x -> map(xi -> map(xii -> xii ≈ 0 ? abs(xii) : xii, xi), x), q_list_pp_pre2)\n",
    "#show(stdout, \"text/plain\", map(qi_list -> unique(qi_list), q_list_pp_pre2))\n",
    "for el in collect(zip(q_list_pp_pre2[1,1], q_list_pp_pre[1,1]))\n",
    "    println(el[1], \" --- \", el[2])\n",
    "end"
   ]
  },
  {
   "cell_type": "code",
   "execution_count": 99,
   "id": "27e675b3-e2bd-402e-9443-37c7820d009c",
   "metadata": {},
   "outputs": [
    {
     "name": "stdout",
     "output_type": "stream",
     "text": [
      "4×4 Matrix{Tuple{Float64, Float64}}:\n",
      " (-1.5708, -1.5708)  (-1.5708, 0.0)  (-1.5708, 1.5708)  (-1.5708, 3.14159)\n",
      " (0.0, -1.5708)      (0.0, 0.0)      (0.0, 1.5708)      (0.0, 3.14159)\n",
      " (1.5708, -1.5708)   (1.5708, 0.0)   (1.5708, 1.5708)   (1.5708, 3.14159)\n",
      " (3.14159, -1.5708)  (3.14159, 0.0)  (3.14159, 1.5708)  (3.14159, 3.14159)"
     ]
    }
   ],
   "source": [
    "t = map(qi->qi[1], q_list)\n",
    "show(stdout, \"text/plain\", t)"
   ]
  },
  {
   "cell_type": "code",
   "execution_count": 100,
   "id": "979c2783-88b1-4bb1-97e1-efe1abb26d72",
   "metadata": {},
   "outputs": [
    {
     "name": "stdout",
     "output_type": "stream",
     "text": [
      "4×4 Matrix{Tuple{Float64, Float64}}:\n",
      " (1.5708, 1.5708)   (1.5708, 3.14159)   (1.5708, -1.5708)   (1.5708, 0.0)\n",
      " (3.14159, 1.5708)  (3.14159, 3.14159)  (3.14159, -1.5708)  (3.14159, 0.0)\n",
      " (-1.5708, 1.5708)  (-1.5708, 3.14159)  (-1.5708, -1.5708)  (-1.5708, 0.0)\n",
      " (0.0, 1.5708)      (0.0, 3.14159)      (0.0, -1.5708)      (0.0, 0.0)"
     ]
    }
   ],
   "source": [
    "t_pp = map(qi->qi[1], q_list_pp)\n",
    "show(stdout, \"text/plain\", t_pp)"
   ]
  },
  {
   "cell_type": "code",
   "execution_count": 101,
   "id": "4ea41b9d-791b-49d6-b5e8-7f3e5fe69627",
   "metadata": {},
   "outputs": [
    {
     "name": "stdout",
     "output_type": "stream",
     "text": [
      "\u001b[91m\u001b[1mTest Failed\u001b[22m\u001b[39m at \u001b[39m\u001b[1mIn[101]:1\u001b[22m\n",
      "  Expression: all(map((x->begin\n",
      "                all(x[1] .≈ x[2])\n",
      "            end), zip(t, t_pp)))\n",
      "\n"
     ]
    },
    {
     "ename": "LoadError",
     "evalue": "\u001b[91mThere was an error during testing\u001b[39m",
     "output_type": "error",
     "traceback": [
      "\u001b[91mThere was an error during testing\u001b[39m",
      "",
      "Stacktrace:",
      " [1] record(ts::Test.FallbackTestSet, t::Union{Test.Error, Test.Fail})",
      "   @ Test ~/julia/share/julia/stdlib/v1.9/Test/src/Test.jl:960",
      " [2] do_test(result::Test.ExecutionResult, orig_expr::Any)",
      "   @ Test ~/julia/share/julia/stdlib/v1.9/Test/src/Test.jl:670",
      " [3] top-level scope",
      "   @ ~/julia/share/julia/stdlib/v1.9/Test/src/Test.jl:478"
     ]
    }
   ],
   "source": [
    "@test all(map(x-> all(x[1] .≈ x[2]), zip(t, t_pp)))"
   ]
  },
  {
   "cell_type": "code",
   "execution_count": 102,
   "id": "601bfa47-2a42-434c-9f3a-5ae7f4e2b4bb",
   "metadata": {
    "scrolled": true
   },
   "outputs": [],
   "source": [
    "gr = \"2dsc-1.1-1.3-1.4\"\n",
    "kG = gen_kGrid(gr, Nk)\n",
    "arr1 = randn(ComplexF64, gridshape(kG))\n",
    "arr2 = randn(ComplexF64, gridshape(kG))\n",
    "arr1_sym = expandKArr(kG, reduceKArr(kG, arr1))\n",
    "arr2_sym = expandKArr(kG, reduceKArr(kG, arr2))\n",
    "arr1_c = deepcopy(arr1_sym)\n",
    "arr2_c = deepcopy(arr2_sym);"
   ]
  },
  {
   "cell_type": "code",
   "execution_count": 106,
   "id": "b0ed33cc-b13f-41fc-8a00-fecc17bdfd29",
   "metadata": {},
   "outputs": [
    {
     "name": "stdout",
     "output_type": "stream",
     "text": [
      "cc = true\n",
      "4×4 Matrix{ComplexF64}:\n",
      " 0.0104666+0.285085im    0.237518+0.0358469im  0.0104666+0.285085im   -0.219381-0.0712305im\n",
      "  0.237518+0.0358469im  -0.431108-0.121234im    0.237518+0.0358469im  -0.146936+0.291041im\n",
      " 0.0104666+0.285085im    0.237518+0.0358469im  0.0104666+0.285085im   -0.219381-0.0712305im\n",
      " -0.219381-0.0712305im  -0.146936+0.291041im   -0.219381-0.0712305im   0.256035+0.648793im\n",
      "===============================\n",
      "4×4 Matrix{ComplexF64}:\n",
      " 0.0104666+0.285085im   -0.219381-0.0712305im  0.0104666+0.285085im    0.237518+0.0358469im\n",
      " -0.219381-0.0712305im   0.256035+0.648793im   -0.219381-0.0712305im  -0.146936+0.291041im\n",
      " 0.0104666+0.285085im   -0.219381-0.0712305im  0.0104666+0.285085im    0.237518+0.0358469im\n",
      "  0.237518+0.0358469im  -0.146936+0.291041im    0.237518+0.0358469im  -0.431108-0.121234im\n",
      "===============================\n",
      "4×4 Matrix{ComplexF64}:\n",
      " -0.164162+0.096118im   0.0948692-0.195593im   -0.164162+0.096118im     0.12552-0.423097im\n",
      " 0.0948692-0.195593im    0.347147-0.317974im   0.0948692-0.195593im  0.00918807+0.0190899im\n",
      " -0.164162+0.096118im   0.0948692-0.195593im   -0.164162+0.096118im     0.12552-0.423097im\n",
      "   0.12552-0.423097im  0.00918807+0.0190899im    0.12552-0.423097im   -0.377653+0.425018im\n",
      "===============================\n",
      "4×4 Matrix{ComplexF64}:\n",
      " -0.164162+0.096118im   0.0948692-0.195593im   -0.164162+0.096118im     0.12552-0.423097im\n",
      " 0.0948692-0.195593im    0.347147-0.317974im   0.0948692-0.195593im  0.00918807+0.0190899im\n",
      " -0.164162+0.096118im   0.0948692-0.195593im   -0.164162+0.096118im     0.12552-0.423097im\n",
      "   0.12552-0.423097im  0.00918807+0.0190899im    0.12552-0.423097im   -0.377653+0.425018im"
     ]
    },
    {
     "data": {
      "text/plain": [
       "\u001b[32m\u001b[1mTest Passed\u001b[22m\u001b[39m"
      ]
     },
     "execution_count": 106,
     "metadata": {},
     "output_type": "execute_result"
    }
   ],
   "source": [
    "conv_ph_naive,_,_ = naive_conv(arr1_sym, arr2_sym, q0, pp=false);\n",
    "conv_test = Dispersions.conv(kG, reduceKArr(kG,arr2_sym), reduceKArr(kG,arr2_sym), crosscorrelation=true)\n",
    "conv_ph_fft_test = circshift(reverse(ifft(fft(arr1_sym) .* fft(reverse(arr2_sym)))), q0 .- 1)\n",
    "\n",
    "show(stdout, \"text/plain\", expandKArr(kG, conv_test))\n",
    "println(\"\\n===============================\")\n",
    "show(stdout, \"text/plain\", kG.cache1 ./ kG.Nk)\n",
    "println(\"\\n===============================\")\n",
    "show(stdout, \"text/plain\", conv_ph_naive ./ kG.Nk)\n",
    "println(\"\\n===============================\")\n",
    "show(stdout, \"text/plain\", conv_ph_fft_test ./ kG.Nk)\n",
    "\n",
    "@test all(conv_ph_fft_test .≈ conv_ph_naive)\n",
    "#@test all(conv_ph_fft_test .≈ kG.cache2)"
   ]
  },
  {
   "cell_type": "code",
   "execution_count": 104,
   "id": "8d116da6-d18d-4441-bf87-7b4925aff1bb",
   "metadata": {},
   "outputs": [
    {
     "ename": "LoadError",
     "evalue": "MethodError: no method matching naive_conv(::Tuple{Int64, Int64}, ::Matrix{ComplexF64}, ::Matrix{ComplexF64}, ::Tuple{Int64, Int64}; pp::Bool)\n\n\u001b[0mClosest candidates are:\n\u001b[0m  naive_conv(\u001b[91m::AbstractArray\u001b[39m, ::AbstractArray, \u001b[91m::Tuple\u001b[39m; pp, round_entries)\n\u001b[0m\u001b[90m   @\u001b[39m \u001b[36mMain\u001b[39m \u001b[90m~/Codes/Dispersions.jl/test/\u001b[39m\u001b[90m\u001b[4mhelper_functions.jl:109\u001b[24m\u001b[39m\n",
     "output_type": "error",
     "traceback": [
      "MethodError: no method matching naive_conv(::Tuple{Int64, Int64}, ::Matrix{ComplexF64}, ::Matrix{ComplexF64}, ::Tuple{Int64, Int64}; pp::Bool)\n\n\u001b[0mClosest candidates are:\n\u001b[0m  naive_conv(\u001b[91m::AbstractArray\u001b[39m, ::AbstractArray, \u001b[91m::Tuple\u001b[39m; pp, round_entries)\n\u001b[0m\u001b[90m   @\u001b[39m \u001b[36mMain\u001b[39m \u001b[90m~/Codes/Dispersions.jl/test/\u001b[39m\u001b[90m\u001b[4mhelper_functions.jl:109\u001b[24m\u001b[39m\n",
      "",
      "Stacktrace:",
      " [1] top-level scope",
      "   @ In[104]:1"
     ]
    }
   ],
   "source": [
    "conv_pp_naive,_,_ = naive_conv(q0, arr1_sym, arr2_sym, q0, pp=true);\n",
    "conv_pp_test = Dispersions.conv(kG, reduceKArr(kG,arr1_sym), reduceKArr(kG, arr2_sym), crosscorrelation=false)\n",
    "conv_pp_fft_test = ifft(fft(arr1_sym) .* fft(arr2_sym))\n",
    "\n",
    "show(stdout, \"text/plain\", expandKArr(kG, conv_pp_test))\n",
    "println(\"\\n===============================\")\n",
    "show(stdout, \"text/plain\", kG.cache1 ./ kG.Nk )\n",
    "println(\"\\n===============================\")\n",
    "show(stdout, \"text/plain\", conv_pp_naive  ./ kG.Nk )\n",
    "println(\"\\n===============================\")\n",
    "show(stdout, \"text/plain\", conv_pp_fft_test ./ kG.Nk)\n",
    "\n",
    "@test all(conv_pp_fft_test .≈ conv_pp_naive)\n",
    "@test all(conv_pp_fft_test .≈ expandKArr(kG, conv_pp_test) .* kG.Nk)"
   ]
  },
  {
   "cell_type": "code",
   "execution_count": 15,
   "id": "3876674a-cadc-470a-aa1b-d378c7b3e15b",
   "metadata": {},
   "outputs": [
    {
     "ename": "LoadError",
     "evalue": "UndefVarError: `conv_pp_naive` not defined",
     "output_type": "error",
     "traceback": [
      "UndefVarError: `conv_pp_naive` not defined",
      "",
      "Stacktrace:",
      " [1] top-level scope",
      "   @ In[15]:1"
     ]
    }
   ],
   "source": [
    "reduceKArr(kG, conv_pp_naive  ./ kG.Nk)"
   ]
  },
  {
   "cell_type": "code",
   "execution_count": 16,
   "id": "b4df1bd8-6973-4901-857b-4d2368b3b207",
   "metadata": {},
   "outputs": [
    {
     "ename": "LoadError",
     "evalue": "UndefVarError: `conv_pp_test` not defined",
     "output_type": "error",
     "traceback": [
      "UndefVarError: `conv_pp_test` not defined",
      ""
     ]
    }
   ],
   "source": [
    "conv_pp_test"
   ]
  },
  {
   "cell_type": "code",
   "execution_count": null,
   "id": "1b0da0c7-ea8b-4082-bd0c-b826319beb9e",
   "metadata": {},
   "outputs": [],
   "source": []
  },
  {
   "cell_type": "code",
   "execution_count": 17,
   "id": "b758ff09-7163-45da-a9b0-ac14ed684631",
   "metadata": {},
   "outputs": [
    {
     "data": {
      "text/plain": [
       "6-element Vector{CartesianIndex{2}}:\n",
       " CartesianIndex(4, 4)\n",
       " CartesianIndex(3, 4)\n",
       " CartesianIndex(3, 3)\n",
       " CartesianIndex(2, 4)\n",
       " CartesianIndex(2, 3)\n",
       " CartesianIndex(2, 2)"
      ]
     },
     "execution_count": 17,
     "metadata": {},
     "output_type": "execute_result"
    }
   ],
   "source": [
    "kG.kInd_crossc"
   ]
  },
  {
   "cell_type": "code",
   "execution_count": 18,
   "id": "5442c56e-ff6c-46ba-bb0d-358814448bf9",
   "metadata": {},
   "outputs": [
    {
     "data": {
      "text/plain": [
       "6-element Vector{CartesianIndex{2}}:\n",
       " CartesianIndex(2, 2)\n",
       " CartesianIndex(3, 2)\n",
       " CartesianIndex(3, 3)\n",
       " CartesianIndex(4, 2)\n",
       " CartesianIndex(4, 3)\n",
       " CartesianIndex(4, 4)"
      ]
     },
     "execution_count": 18,
     "metadata": {},
     "output_type": "execute_result"
    }
   ],
   "source": [
    "kG.kInd_conv"
   ]
  },
  {
   "cell_type": "code",
   "execution_count": 19,
   "id": "2a6737bf-33b4-45ce-a055-d7d879f4773a",
   "metadata": {},
   "outputs": [
    {
     "data": {
      "text/plain": [
       "\u001b[32m\u001b[1mTest Passed\u001b[22m\u001b[39m"
      ]
     },
     "execution_count": 19,
     "metadata": {},
     "output_type": "execute_result"
    }
   ],
   "source": [
    "@test all(arr1_c .== arr1_sym)\n",
    "@test all(arr2_c .== arr2_sym)"
   ]
  },
  {
   "cell_type": "code",
   "execution_count": 20,
   "id": "a272f2ca-31dd-42a3-9f16-605c727fd89f",
   "metadata": {},
   "outputs": [
    {
     "ename": "LoadError",
     "evalue": "UndefVarError: `conv_pp_naive` not defined",
     "output_type": "error",
     "traceback": [
      "UndefVarError: `conv_pp_naive` not defined",
      "",
      "Stacktrace:",
      " [1] top-level scope",
      "   @ In[20]:1"
     ]
    }
   ],
   "source": [
    "println(minimum(real(conv_pp_naive)))\n",
    "show(stdout, \"text/plain\", conv_pp_naive)"
   ]
  },
  {
   "cell_type": "code",
   "execution_count": 21,
   "id": "1aebe4c5-c2c4-4d61-9971-1e6d022086cf",
   "metadata": {},
   "outputs": [
    {
     "name": "stdout",
     "output_type": "stream",
     "text": [
      "-3.838883278859175\n",
      "4×4 Matrix{ComplexF64}:\n",
      " -3.83888-1.0328im     -1.7868+2.99515im    -1.39923+0.819268im   -1.7868+2.99515im\n",
      "  -1.7868+2.99515im    5.65311+0.0269953im  -1.15341+1.33518im    5.65311+0.0269953im\n",
      " -1.39923+0.819268im  -1.15341+1.33518im     1.20751+2.7316im    -1.15341+1.33518im\n",
      "  -1.7868+2.99515im    5.65311+0.0269953im  -1.15341+1.33518im    5.65311+0.0269953im"
     ]
    }
   ],
   "source": [
    "conv_fft_test = circshift(ifft(fft(arr1_sym) .* fft(arr2_sym)), trunc.(Int,(2,2)))\n",
    "println(minimum(real(conv_fft_test)))\n",
    "show(stdout, \"text/plain\", conv_fft_test)"
   ]
  },
  {
   "cell_type": "code",
   "execution_count": 22,
   "id": "68bf618c-88d2-4cba-8e57-3bc48722c43a",
   "metadata": {},
   "outputs": [
    {
     "ename": "LoadError",
     "evalue": "MethodError: no method matching naive_conv(::Matrix{ComplexF64}, ::Matrix{ComplexF64})\n\n\u001b[0mClosest candidates are:\n\u001b[0m  naive_conv(::AbstractArray, ::AbstractArray, \u001b[91m::Tuple\u001b[39m; pp, round_entries)\n\u001b[0m\u001b[90m   @\u001b[39m \u001b[36mMain\u001b[39m \u001b[90m~/Codes/Dispersions.jl/test/\u001b[39m\u001b[90m\u001b[4mhelper_functions.jl:87\u001b[24m\u001b[39m\n",
     "output_type": "error",
     "traceback": [
      "MethodError: no method matching naive_conv(::Matrix{ComplexF64}, ::Matrix{ComplexF64})\n\n\u001b[0mClosest candidates are:\n\u001b[0m  naive_conv(::AbstractArray, ::AbstractArray, \u001b[91m::Tuple\u001b[39m; pp, round_entries)\n\u001b[0m\u001b[90m   @\u001b[39m \u001b[36mMain\u001b[39m \u001b[90m~/Codes/Dispersions.jl/test/\u001b[39m\u001b[90m\u001b[4mhelper_functions.jl:87\u001b[24m\u001b[39m\n",
      "",
      "Stacktrace:",
      " [1] top-level scope",
      "   @ In[22]:14"
     ]
    }
   ],
   "source": [
    "Ns = 4\n",
    "num_eps=1e-7\n",
    "        kG = gen_kGrid(gr, Ns)\n",
    "        arr1 = randn(ComplexF64, gridshape(kG))\n",
    "        arr2 = randn(ComplexF64, gridshape(kG))\n",
    "        arr1_sym = expandKArr(kG, reduceKArr(kG, arr1))\n",
    "        arr2_sym = expandKArr(kG, reduceKArr(kG, arr2))\n",
    "        arr1_fft = fft(arr1)\n",
    "        arr1_r_fft = fft(reverse(arr1))\n",
    "        arr2_r_fft = fft(reverse(arr2))\n",
    "        arr2_fft = fft(arr2)\n",
    "        conv_theo_res = ifft(arr1_fft .* arr2_fft)\n",
    "        conv_naive_fft_def_res = naive_conv_fft_def(arr1, arr2)     # ∑_k arr1[k] * arr2[q-k]\n",
    "        conv_naive_res,_,_ = naive_conv(arr1, arr2)                     # ∑_k arr1[k] * arr2[q+k]\n",
    "        conv_theo_res_2 = reverse(ifft(arr1_fft .* arr2_r_fft))\n",
    "        conv_theo_res_3 = reverse(ifft(arr1_r_fft .* arr2_fft))\n",
    "        t1,_,_ = naive_conv(arr1_sym, arr2_sym)\n",
    "        conv_naive_res_2 = Dispersions.conv_sample_post(kG,  t1 ./ Dispersions.Nk(kG))\n",
    "        conv_res = conv(kG, reduceKArr(kG, arr1_sym), reduceKArr(kG, arr2_sym))\n",
    "        conv_noPlan_res = conv_noPlan(kG, reduceKArr(kG, arr1_sym), reduceKArr(kG, arr2_sym))\n",
    "\n",
    "        v_full = collect(Dispersions.gen_sampling(grid_type(kG), grid_dimension(kG),  kG.Ns))\n",
    "        dbg_i_pp, dbg_val_pp = naive_conv_no_res(v_full, v_full, pp=true, round_entries=false);\n",
    "        dbg_i, dbg_val = naive_conv_no_res(v_full, v_full, pp=false, round_entries=false);\n",
    "            @test all(conv_theo_res .≈ conv_naive_fft_def_res)      # naive convolution and conv. theorem match\n",
    "            @test all(conv_naive_res .≈ conv_theo_res_2)\n",
    "            #@test all(isapprox.(expandKArr(kG, conv_res), conv_naive_res_2, atol = num_eps))\n",
    "            #@test all(expandKArr(kG, conv_noPlan_res) .≈ conv_naive_res_2)\n",
    "            @test all(reduceKArr(kG, expandKArr(kG, conv_res)) .≈ conv_res)     # is symmetry preserved?\n",
    "            \n",
    "            q_list_pp = map(el->check_q(el, Nk, pp=true), dbg_val_pp);\n",
    "            # preprocess rounds all entries in order for unqiue to work\n",
    "            q_list_pp_pre = map(x -> map(xi -> round.(xi,digits=8), x), q_list_pp)\n",
    "            q_list_pp_pre = map(x -> map(xi -> map(xii -> xii ≈ 0 ? abs(xii) : xii, xi), x), q_list_pp_pre)\n",
    "            # Test if all entries have the same common q difference\n",
    "            @test all(map(qi_list -> length(unique(qi_list)) == 1, q_list_pp_pre))\n",
    "            # Test if all possible q-vectors are contained in convolution\n",
    "            @test all(map(el -> all(el[1] .≈ el[2]), zip(sort(unique(v_full)[:]), sort(map(qi->qi[1], q_list_pp)[:]))))\n",
    "\n",
    "            q_list = map(el->check_q(el, Nk), dbg_val);\n",
    "            # preprocess rounds all entries in order for unqiue to work\n",
    "            q_list_pre = map(x -> map(xi -> round.(xi,digits=8), x), q_list)\n",
    "            q_list_pre = map(x -> map(xi -> map(xii -> xii ≈ 0 ? abs(xii) : xii, xi), x), q_list_pre)\n",
    "            # Test if all entries have the same common q difference\n",
    "            @test all(map(qi_list -> length(unique(qi_list)) == 1, q_list_pre))\n",
    "            # Test if all possible q-vectors are contained in convolution\n",
    "            @test all(map(el -> all(el[1] .≈ el[2]), zip(sort(unique(v_full)[:]), sort(map(qi->qi[1], q_list)[:]))))\n",
    "\n",
    "            t = map(qi->qi[1], q_list)\n",
    "            t_pp = map(qi->qi[1], q_list_pp)\n",
    "            #@test all(map(el->all(el[1] .≈ el[2]), zip(t_pp, t)))\n",
    "\n",
    "            conv_pp_naive,_,_ = naive_conv(arr1_sym, arr2_sym)\n",
    "            conv_pp_fft_test = circshift(ifft(fft(arr1_sym) .* fft(arr2_sym)), trunc.(Int,(2,2)))\n",
    "            conv_pp_int = conv(kG, reduceKArr(kG, arr1_sym), reduceKArr(kG, arr1_sym), crosscorrelation=false)\n",
    "            @test all(conv_pp_naive .≈ conv_pp_fft_test)\n",
    "            #@test all(conv_pp_naive .≈ expandKArr(kG,conv_pp_int))"
   ]
  },
  {
   "cell_type": "code",
   "execution_count": null,
   "id": "ef4aecb3-a38c-4812-adbd-25098459b9ea",
   "metadata": {},
   "outputs": [],
   "source": []
  },
  {
   "cell_type": "code",
   "execution_count": null,
   "id": "336ae7ea-4187-410a-b23e-fd2c2b4cbee3",
   "metadata": {},
   "outputs": [],
   "source": []
  },
  {
   "cell_type": "code",
   "execution_count": 23,
   "id": "18b54f5f-04e8-4579-8360-c5d2691e4f40",
   "metadata": {},
   "outputs": [
    {
     "name": "stdout",
     "output_type": "stream",
     "text": [
      "cc = true\n"
     ]
    },
    {
     "data": {
      "text/plain": [
       "10-element Vector{ComplexF64}:\n",
       " 23410.694444444445 + 0.0im\n",
       " 23401.444444444445 + 0.0im\n",
       " 23394.277777777777 + 0.0im\n",
       " 23388.805555555555 + 0.0im\n",
       " 23382.333333333332 + 0.0im\n",
       "  23373.86111111111 + 0.0im\n",
       " 23382.333333333332 + 0.0im\n",
       " 23376.555555555555 + 0.0im\n",
       " 23368.777777777777 + 0.0im\n",
       " 23365.777777777777 + 0.0im"
      ]
     },
     "execution_count": 23,
     "metadata": {},
     "output_type": "execute_result"
    }
   ],
   "source": [
    "kG2 = gen_kGrid(\"2dsc-1.1-1.2-1.3\", 6)\n",
    "arr1_2 = convert.(ComplexF64, reshape(1:36, 6,6));\n",
    "arr2_2 = convert.(ComplexF64, reshape(1001:1036, 6,6));\n",
    "rr = conv(kG2, reduceKArr(kG2,arr1_2), reduceKArr(kG2,arr2_2))"
   ]
  },
  {
   "cell_type": "code",
   "execution_count": 24,
   "id": "a0757ae0-3cc2-470e-b1bf-aa6fd9c2d5e5",
   "metadata": {},
   "outputs": [
    {
     "data": {
      "text/plain": [
       "10-element Vector{ComplexF64}:\n",
       " 12876.0 + 0.0im\n",
       " 12822.0 + 0.0im\n",
       " 10878.0 + 0.0im\n",
       " 12804.0 + 0.0im\n",
       " 10860.0 + 0.0im\n",
       " 10212.0 + 0.0im\n",
       " 12822.0 + 0.0im\n",
       " 10878.0 + 0.0im\n",
       " 10230.0 + 0.0im\n",
       " 10878.0 + 0.0im"
      ]
     },
     "execution_count": 24,
     "metadata": {},
     "output_type": "execute_result"
    }
   ],
   "source": [
    "rr, _,_ = naive_conv(arr1_2, arr1_2, q0, pp=false)\n",
    "reduceKArr(kG2, rr)"
   ]
  },
  {
   "cell_type": "code",
   "execution_count": 25,
   "id": "b4c2b5b5-bcf9-4e8e-a568-ef6b0fb5ab66",
   "metadata": {},
   "outputs": [
    {
     "data": {
      "text/plain": [
       "6×6 Matrix{ComplexF64}:\n",
       " 12876.0+0.0im  16116.0+0.0im  12876.0+0.0im  …  10284.0+0.0im  10932.0+0.0im\n",
       " 12966.0+0.0im  16206.0+0.0im  12966.0+0.0im     10374.0+0.0im  11022.0+0.0im\n",
       " 12876.0+0.0im  16116.0+0.0im  12876.0+0.0im     10284.0+0.0im  10932.0+0.0im\n",
       " 12822.0+0.0im  16062.0+0.0im  12822.0+0.0im     10230.0+0.0im  10878.0+0.0im\n",
       " 12804.0+0.0im  16044.0+0.0im  12804.0+0.0im     10212.0+0.0im  10860.0+0.0im\n",
       " 12822.0+0.0im  16062.0+0.0im  12822.0+0.0im  …  10230.0+0.0im  10878.0+0.0im"
      ]
     },
     "execution_count": 25,
     "metadata": {},
     "output_type": "execute_result"
    }
   ],
   "source": [
    "rr"
   ]
  },
  {
   "cell_type": "code",
   "execution_count": null,
   "id": "f496d346-50ba-4471-a952-4d25d2153574",
   "metadata": {},
   "outputs": [],
   "source": []
  }
 ],
 "metadata": {
  "kernelspec": {
   "display_name": "Julia 1.9.3",
   "language": "julia",
   "name": "julia-1.9"
  },
  "language_info": {
   "file_extension": ".jl",
   "mimetype": "application/julia",
   "name": "julia",
   "version": "1.9.3"
  }
 },
 "nbformat": 4,
 "nbformat_minor": 5
}
